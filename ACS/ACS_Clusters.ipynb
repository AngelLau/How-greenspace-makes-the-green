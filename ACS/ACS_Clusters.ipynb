{
 "cells": [
  {
   "cell_type": "code",
   "execution_count": 2,
   "metadata": {},
   "outputs": [],
   "source": [
    "import pandas as pd\n",
    "import numpy as np\n",
    "import matplotlib.pyplot as plt\n",
    "%matplotlib inline"
   ]
  },
  {
   "cell_type": "code",
   "execution_count": 3,
   "metadata": {},
   "outputs": [],
   "source": [
    "acs = pd.read_csv('ACS16_NYC.csv')"
   ]
  },
  {
   "cell_type": "code",
   "execution_count": 4,
   "metadata": {},
   "outputs": [
    {
     "data": {
      "text/plain": [
       "(1838, 8)"
      ]
     },
     "execution_count": 4,
     "metadata": {},
     "output_type": "execute_result"
    }
   ],
   "source": [
    "acs.shape"
   ]
  },
  {
   "cell_type": "code",
   "execution_count": 5,
   "metadata": {},
   "outputs": [
    {
     "data": {
      "text/html": [
       "<div>\n",
       "<style scoped>\n",
       "    .dataframe tbody tr th:only-of-type {\n",
       "        vertical-align: middle;\n",
       "    }\n",
       "\n",
       "    .dataframe tbody tr th {\n",
       "        vertical-align: top;\n",
       "    }\n",
       "\n",
       "    .dataframe thead th {\n",
       "        text-align: right;\n",
       "    }\n",
       "</style>\n",
       "<table border=\"1\" class=\"dataframe\">\n",
       "  <thead>\n",
       "    <tr style=\"text-align: right;\">\n",
       "      <th></th>\n",
       "      <th>Unnamed: 0</th>\n",
       "      <th>census_tract</th>\n",
       "      <th>total_population</th>\n",
       "      <th>median_age</th>\n",
       "      <th>total_population_25yrsandover</th>\n",
       "      <th>total_bachelors_degree</th>\n",
       "      <th>median_income</th>\n",
       "      <th>percent_bachelorsdegree</th>\n",
       "    </tr>\n",
       "  </thead>\n",
       "  <tbody>\n",
       "    <tr>\n",
       "      <th>0</th>\n",
       "      <td>1</td>\n",
       "      <td>Bronx_1</td>\n",
       "      <td>7503.0</td>\n",
       "      <td>32.1</td>\n",
       "      <td>303.0</td>\n",
       "      <td>0.7</td>\n",
       "      <td>10778.0</td>\n",
       "      <td>0.231023</td>\n",
       "    </tr>\n",
       "    <tr>\n",
       "      <th>1</th>\n",
       "      <td>2</td>\n",
       "      <td>Bronx_2</td>\n",
       "      <td>5251.0</td>\n",
       "      <td>38.6</td>\n",
       "      <td>449.0</td>\n",
       "      <td>11.8</td>\n",
       "      <td>30760.0</td>\n",
       "      <td>2.628062</td>\n",
       "    </tr>\n",
       "    <tr>\n",
       "      <th>2</th>\n",
       "      <td>3</td>\n",
       "      <td>Bronx_4</td>\n",
       "      <td>5980.0</td>\n",
       "      <td>39.4</td>\n",
       "      <td>300.0</td>\n",
       "      <td>14.3</td>\n",
       "      <td>32371.0</td>\n",
       "      <td>4.766667</td>\n",
       "    </tr>\n",
       "    <tr>\n",
       "      <th>3</th>\n",
       "      <td>4</td>\n",
       "      <td>Bronx_16</td>\n",
       "      <td>6056.0</td>\n",
       "      <td>36.9</td>\n",
       "      <td>325.0</td>\n",
       "      <td>5.8</td>\n",
       "      <td>17848.0</td>\n",
       "      <td>1.784615</td>\n",
       "    </tr>\n",
       "    <tr>\n",
       "      <th>4</th>\n",
       "      <td>5</td>\n",
       "      <td>Bronx_19</td>\n",
       "      <td>2682.0</td>\n",
       "      <td>32.5</td>\n",
       "      <td>227.0</td>\n",
       "      <td>13.7</td>\n",
       "      <td>21788.0</td>\n",
       "      <td>6.035242</td>\n",
       "    </tr>\n",
       "  </tbody>\n",
       "</table>\n",
       "</div>"
      ],
      "text/plain": [
       "   Unnamed: 0 census_tract  total_population  median_age  \\\n",
       "0           1      Bronx_1            7503.0        32.1   \n",
       "1           2      Bronx_2            5251.0        38.6   \n",
       "2           3      Bronx_4            5980.0        39.4   \n",
       "3           4     Bronx_16            6056.0        36.9   \n",
       "4           5     Bronx_19            2682.0        32.5   \n",
       "\n",
       "   total_population_25yrsandover  total_bachelors_degree  median_income  \\\n",
       "0                          303.0                     0.7        10778.0   \n",
       "1                          449.0                    11.8        30760.0   \n",
       "2                          300.0                    14.3        32371.0   \n",
       "3                          325.0                     5.8        17848.0   \n",
       "4                          227.0                    13.7        21788.0   \n",
       "\n",
       "   percent_bachelorsdegree  \n",
       "0                 0.231023  \n",
       "1                 2.628062  \n",
       "2                 4.766667  \n",
       "3                 1.784615  \n",
       "4                 6.035242  "
      ]
     },
     "execution_count": 5,
     "metadata": {},
     "output_type": "execute_result"
    }
   ],
   "source": [
    "acs.head()"
   ]
  },
  {
   "cell_type": "code",
   "execution_count": 6,
   "metadata": {},
   "outputs": [],
   "source": [
    "from sklearn.cluster import KMeans\n",
    "from sklearn.preprocessing import StandardScaler\n",
    "from sklearn.metrics import silhouette_score"
   ]
  },
  {
   "cell_type": "code",
   "execution_count": 7,
   "metadata": {},
   "outputs": [],
   "source": [
    "X = acs[['median_age', 'median_income', 'percent_bachelorsdegree', 'total_population']]"
   ]
  },
  {
   "cell_type": "markdown",
   "metadata": {},
   "source": [
    "## Standard Scale"
   ]
  },
  {
   "cell_type": "code",
   "execution_count": 8,
   "metadata": {},
   "outputs": [],
   "source": [
    "scaler = StandardScaler()\n",
    "scaler.fit(X)\n",
    "X_std = scaler.transform(X)"
   ]
  },
  {
   "cell_type": "markdown",
   "metadata": {},
   "source": [
    "## Cluster Analysis (K-Means)"
   ]
  },
  {
   "cell_type": "markdown",
   "metadata": {},
   "source": [
    "### Find value of K"
   ]
  },
  {
   "cell_type": "code",
   "execution_count": 9,
   "metadata": {},
   "outputs": [
    {
     "name": "stdout",
     "output_type": "stream",
     "text": [
      "At 2 clusters, inertia is 5158.868713345617\n",
      "At 3 clusters, inertia is 4309.288306654742\n",
      "At 4 clusters, inertia is 3691.817835762331\n",
      "At 5 clusters, inertia is 3324.4052519671477\n",
      "At 6 clusters, inertia is 2984.1137054074097\n",
      "At 7 clusters, inertia is 2708.7732423468656\n",
      "At 8 clusters, inertia is 2497.643896547185\n",
      "At 9 clusters, inertia is 2350.8828292943326\n"
     ]
    },
    {
     "data": {
      "text/plain": [
       "<matplotlib.text.Text at 0x7f5470937c88>"
      ]
     },
     "execution_count": 9,
     "metadata": {},
     "output_type": "execute_result"
    },
    {
     "data": {
      "image/png": "[encoded data removed]",
      "text/plain": [
       "<matplotlib.figure.Figure at 0x7f5470abcdd8>"
      ]
     },
     "metadata": {
      "needs_background": "light"
     },
     "output_type": "display_data"
    }
   ],
   "source": [
    "np.random.seed(42)\n",
    "s = np.zeros(8)\n",
    "for k in range(0, 8):\n",
    "    est = KMeans(n_clusters = k+2, n_init = 100)\n",
    "    est.fit(X_std)\n",
    "    s[k] = est.inertia_\n",
    "    print('At {0} clusters, inertia is {1}'.format(k+2, s[k]))\n",
    "    \n",
    "plt.figure(figsize=(8, 6))\n",
    "plt.plot(range(2, 10), s,'-')\n",
    "plt.xlabel('k', fontsize = 16)\n",
    "plt.ylabel('Inertia', fontsize = 16)\n",
    "plt.title('Inertia Plot', fontsize = 20)"
   ]
  },
  {
   "cell_type": "markdown",
   "metadata": {},
   "source": [
    "## K=4 is optimal\n",
    "K=4 is at the elbow of the score graph"
   ]
  },
  {
   "cell_type": "code",
   "execution_count": 13,
   "metadata": {},
   "outputs": [
    {
     "data": {
      "text/plain": [
       "KMeans(algorithm='auto', copy_x=True, init='k-means++', max_iter=300,\n",
       "    n_clusters=4, n_init=100, n_jobs=None, precompute_distances='auto',\n",
       "    random_state=None, tol=0.0001, verbose=0)"
      ]
     },
     "execution_count": 13,
     "metadata": {},
     "output_type": "execute_result"
    }
   ],
   "source": [
    "cluster = KMeans(n_clusters = 4, n_init=100)\n",
    "cluster.fit(X_std)"
   ]
  },
  {
   "cell_type": "code",
   "execution_count": 14,
   "metadata": {},
   "outputs": [],
   "source": [
    "acs['clusterLabels'] = cluster.labels_"
   ]
  },
  {
   "cell_type": "code",
   "execution_count": 15,
   "metadata": {},
   "outputs": [
    {
     "data": {
      "text/plain": [
       "2    675\n",
       "0    556\n",
       "1    372\n",
       "3    235\n",
       "Name: clusterLabels, dtype: int64"
      ]
     },
     "execution_count": 15,
     "metadata": {},
     "output_type": "execute_result"
    }
   ],
   "source": [
    "acs.clusterLabels.value_counts()"
   ]
  },
  {
   "cell_type": "markdown",
   "metadata": {},
   "source": [
    "## Investigate clusters' statistics"
   ]
  },
  {
   "cell_type": "code",
   "execution_count": 16,
   "metadata": {},
   "outputs": [
    {
     "name": "stdout",
     "output_type": "stream",
     "text": [
      "Group 0:\n",
      "    Group Size: 556\n",
      "    Population: 3046.78\n",
      "    Median Age: 42.69\n",
      "    Median Income: 32377.81\n",
      "    Percent with Bachelors Degree: 9.79\n",
      "Group 1:\n",
      "    Group Size: 372\n",
      "    Population: 6386.39\n",
      "    Median Age: 34.41\n",
      "    Median Income: 23136.74\n",
      "    Percent with Bachelors Degree: 3.68\n",
      "Group 2:\n",
      "    Group Size: 675\n",
      "    Population: 3190.2\n",
      "    Median Age: 32.62\n",
      "    Median Income: 23258.41\n",
      "    Percent with Bachelors Degree: 6.85\n",
      "Group 3:\n",
      "    Group Size: 235\n",
      "    Population: 2569.12\n",
      "    Median Age: 37.59\n",
      "    Median Income: 48594.98\n",
      "    Percent with Bachelors Degree: 20.99\n"
     ]
    }
   ],
   "source": [
    "for i in range(0,4):\n",
    "    group = acs[acs['clusterLabels'] == i]\n",
    "    print('Group ' + str(i) + ':')\n",
    "    print('    Group Size: ' + str(len(group)))\n",
    "    print('    Population: ' + str(round(group.total_population.mean(),2)))\n",
    "    print('    Median Age: ' + str(round(group.median_age.mean(),2)))\n",
    "    print('    Median Income: ' + str(round(group.median_income.mean(),2)))\n",
    "    print('    Percent with Bachelors Degree: ' + str(round(group.percent_bachelorsdegree.mean(),2)))"
   ]
  },
  {
   "cell_type": "markdown",
   "metadata": {},
   "source": [
    "Percent with Bachelors Degree seems to be incredibly low and Median Income seems low as well"
   ]
  },
  {
   "cell_type": "markdown",
   "metadata": {},
   "source": [
    "## Comments on Groups:\n"
   ]
  },
  {
   "cell_type": "markdown",
   "metadata": {},
   "source": [
    "### Group 0:\n",
    "- Oldest but in the middle for all else\n",
    "\n",
    "### Group 1:\n",
    "- Highest Population\n",
    "- Lowest Income (with Group 2)\n",
    "- Lowest Education\n",
    "\n",
    "### Group 2:\n",
    "- Youngest\n",
    "- Low Income\n",
    "\n",
    "### Group 3:\n",
    "- Highest Education\n",
    "- Lowest Population\n",
    "- Highest Income"
   ]
  },
  {
   "cell_type": "markdown",
   "metadata": {},
   "source": [
    "## Write data to .csv"
   ]
  },
  {
   "cell_type": "code",
   "execution_count": 17,
   "metadata": {},
   "outputs": [
    {
     "data": {
      "text/html": [
       "<div>\n",
       "<style scoped>\n",
       "    .dataframe tbody tr th:only-of-type {\n",
       "        vertical-align: middle;\n",
       "    }\n",
       "\n",
       "    .dataframe tbody tr th {\n",
       "        vertical-align: top;\n",
       "    }\n",
       "\n",
       "    .dataframe thead th {\n",
       "        text-align: right;\n",
       "    }\n",
       "</style>\n",
       "<table border=\"1\" class=\"dataframe\">\n",
       "  <thead>\n",
       "    <tr style=\"text-align: right;\">\n",
       "      <th></th>\n",
       "      <th>Unnamed: 0</th>\n",
       "      <th>census_tract</th>\n",
       "      <th>total_population</th>\n",
       "      <th>median_age</th>\n",
       "      <th>total_population_25yrsandover</th>\n",
       "      <th>total_bachelors_degree</th>\n",
       "      <th>median_income</th>\n",
       "      <th>percent_bachelorsdegree</th>\n",
       "      <th>clusterLabels</th>\n",
       "    </tr>\n",
       "  </thead>\n",
       "  <tbody>\n",
       "    <tr>\n",
       "      <th>0</th>\n",
       "      <td>1</td>\n",
       "      <td>Bronx_1</td>\n",
       "      <td>7503.0</td>\n",
       "      <td>32.1</td>\n",
       "      <td>303.0</td>\n",
       "      <td>0.7</td>\n",
       "      <td>10778.0</td>\n",
       "      <td>0.231023</td>\n",
       "      <td>1</td>\n",
       "    </tr>\n",
       "    <tr>\n",
       "      <th>1</th>\n",
       "      <td>2</td>\n",
       "      <td>Bronx_2</td>\n",
       "      <td>5251.0</td>\n",
       "      <td>38.6</td>\n",
       "      <td>449.0</td>\n",
       "      <td>11.8</td>\n",
       "      <td>30760.0</td>\n",
       "      <td>2.628062</td>\n",
       "      <td>1</td>\n",
       "    </tr>\n",
       "    <tr>\n",
       "      <th>2</th>\n",
       "      <td>3</td>\n",
       "      <td>Bronx_4</td>\n",
       "      <td>5980.0</td>\n",
       "      <td>39.4</td>\n",
       "      <td>300.0</td>\n",
       "      <td>14.3</td>\n",
       "      <td>32371.0</td>\n",
       "      <td>4.766667</td>\n",
       "      <td>1</td>\n",
       "    </tr>\n",
       "    <tr>\n",
       "      <th>3</th>\n",
       "      <td>4</td>\n",
       "      <td>Bronx_16</td>\n",
       "      <td>6056.0</td>\n",
       "      <td>36.9</td>\n",
       "      <td>325.0</td>\n",
       "      <td>5.8</td>\n",
       "      <td>17848.0</td>\n",
       "      <td>1.784615</td>\n",
       "      <td>1</td>\n",
       "    </tr>\n",
       "    <tr>\n",
       "      <th>4</th>\n",
       "      <td>5</td>\n",
       "      <td>Bronx_19</td>\n",
       "      <td>2682.0</td>\n",
       "      <td>32.5</td>\n",
       "      <td>227.0</td>\n",
       "      <td>13.7</td>\n",
       "      <td>21788.0</td>\n",
       "      <td>6.035242</td>\n",
       "      <td>2</td>\n",
       "    </tr>\n",
       "  </tbody>\n",
       "</table>\n",
       "</div>"
      ],
      "text/plain": [
       "   Unnamed: 0 census_tract  total_population  median_age  \\\n",
       "0           1      Bronx_1            7503.0        32.1   \n",
       "1           2      Bronx_2            5251.0        38.6   \n",
       "2           3      Bronx_4            5980.0        39.4   \n",
       "3           4     Bronx_16            6056.0        36.9   \n",
       "4           5     Bronx_19            2682.0        32.5   \n",
       "\n",
       "   total_population_25yrsandover  total_bachelors_degree  median_income  \\\n",
       "0                          303.0                     0.7        10778.0   \n",
       "1                          449.0                    11.8        30760.0   \n",
       "2                          300.0                    14.3        32371.0   \n",
       "3                          325.0                     5.8        17848.0   \n",
       "4                          227.0                    13.7        21788.0   \n",
       "\n",
       "   percent_bachelorsdegree  clusterLabels  \n",
       "0                 0.231023              1  \n",
       "1                 2.628062              1  \n",
       "2                 4.766667              1  \n",
       "3                 1.784615              1  \n",
       "4                 6.035242              2  "
      ]
     },
     "execution_count": 17,
     "metadata": {},
     "output_type": "execute_result"
    }
   ],
   "source": [
    "acs.head()"
   ]
  },
  {
   "cell_type": "code",
   "execution_count": 18,
   "metadata": {},
   "outputs": [],
   "source": [
    "acs.to_csv('acsClusters.csv')"
   ]
  }
 ],
 "metadata": {
  "kernelspec": {
   "display_name": "ADS",
   "language": "python",
   "name": "ads"
  },
  "language_info": {
   "codemirror_mode": {
    "name": "ipython",
    "version": 3
   },
   "file_extension": ".py",
   "mimetype": "text/x-python",
   "name": "python",
   "nbconvert_exporter": "python",
   "pygments_lexer": "ipython3",
   "version": "3.5.0"
  }
 },
 "nbformat": 4,
 "nbformat_minor": 2
}
