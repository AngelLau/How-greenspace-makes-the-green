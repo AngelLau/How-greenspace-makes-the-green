{
 "cells": [
  {
   "cell_type": "code",
   "execution_count": 1,
   "metadata": {},
   "outputs": [
    {
     "name": "stdout",
     "output_type": "stream",
     "text": [
      "Populating the interactive namespace from numpy and matplotlib\n"
     ]
    }
   ],
   "source": [
    "import geopandas as gpd\n",
    "import pandas as pd\n",
    "import numpy as np\n",
    "import urllib\n",
    "import requests\n",
    "import os\n",
    "import io\n",
    "import json\n",
    "import pylab as pl\n",
    "import shapely\n",
    "from fiona.crs import from_epsg\n",
    "import geopandas as gpd\n",
    "import json\n",
    "%pylab inline"
   ]
  },
  {
   "cell_type": "code",
   "execution_count": 12,
   "metadata": {},
   "outputs": [],
   "source": [
    "pz=gpd.GeoDataFrame.from_file(\"/nfshome\"+\"/cl4855\"+\"/ADS\"+\"/How-greenspace-makes-the-green\"+\"/Parks Zones\"+\"/geo_export_a90dc41c-f8a9-41e2-a7cc-d3f837c229b3.shp\")"
   ]
  },
  {
   "cell_type": "code",
   "execution_count": 191,
   "metadata": {},
   "outputs": [],
   "source": [
    "gs=gpd.GeoDataFrame.from_file(\"/nfshome\"+\"/cl4855\"+\"/ADS\"+\"/How-greenspace-makes-the-green\"+\"/Green Spaces\"+\"/geo_export_082cf1b6-52ed-40bb-9b52-13945bdb1f98.shp\")"
   ]
  },
  {
   "cell_type": "code",
   "execution_count": 22,
   "metadata": {},
   "outputs": [
    {
     "data": {
      "text/plain": [
       "{'init': 'epsg:4326'}"
      ]
     },
     "execution_count": 22,
     "metadata": {},
     "output_type": "execute_result"
    }
   ],
   "source": [
    "gs.crs"
   ]
  },
  {
   "cell_type": "code",
   "execution_count": 192,
   "metadata": {},
   "outputs": [
    {
     "data": {
      "text/html": [
       "<div>\n",
       "<table border=\"1\" class=\"dataframe\">\n",
       "  <thead>\n",
       "    <tr style=\"text-align: right;\">\n",
       "      <th></th>\n",
       "      <th>feat_code</th>\n",
       "      <th>landuse</th>\n",
       "      <th>park_name</th>\n",
       "      <th>parknum</th>\n",
       "      <th>shape_area</th>\n",
       "      <th>shape_leng</th>\n",
       "      <th>source_id</th>\n",
       "      <th>status</th>\n",
       "      <th>sub_code</th>\n",
       "      <th>system</th>\n",
       "      <th>geometry</th>\n",
       "    </tr>\n",
       "  </thead>\n",
       "  <tbody>\n",
       "    <tr>\n",
       "      <th>0</th>\n",
       "      <td>4910.0</td>\n",
       "      <td>Community Park</td>\n",
       "      <td>Commodore Barry Park</td>\n",
       "      <td>B021</td>\n",
       "      <td>41539.801363</td>\n",
       "      <td>829.420107</td>\n",
       "      <td>2.149100e+10</td>\n",
       "      <td>Updated</td>\n",
       "      <td>491050.0</td>\n",
       "      <td>None</td>\n",
       "      <td>POLYGON ((-73.97922375065221 40.69799879369959...</td>\n",
       "    </tr>\n",
       "    <tr>\n",
       "      <th>1</th>\n",
       "      <td>4980.0</td>\n",
       "      <td>Neighborhood Park</td>\n",
       "      <td>Pierrepont Playground</td>\n",
       "      <td>B222</td>\n",
       "      <td>21960.494920</td>\n",
       "      <td>607.555193</td>\n",
       "      <td>2.149800e+10</td>\n",
       "      <td>Unchanged</td>\n",
       "      <td>498000.0</td>\n",
       "      <td>None</td>\n",
       "      <td>POLYGON ((-73.99732028095745 40.69600764072165...</td>\n",
       "    </tr>\n",
       "    <tr>\n",
       "      <th>2</th>\n",
       "      <td>4980.0</td>\n",
       "      <td>Neighborhood Park</td>\n",
       "      <td>Cobble Hill Park</td>\n",
       "      <td>B326</td>\n",
       "      <td>28079.076265</td>\n",
       "      <td>784.421990</td>\n",
       "      <td>2.149800e+10</td>\n",
       "      <td>Unchanged</td>\n",
       "      <td>498000.0</td>\n",
       "      <td>None</td>\n",
       "      <td>POLYGON ((-73.99557419919979 40.68792918280799...</td>\n",
       "    </tr>\n",
       "    <tr>\n",
       "      <th>3</th>\n",
       "      <td>4980.0</td>\n",
       "      <td>Community Park</td>\n",
       "      <td>Commodore Barry Park</td>\n",
       "      <td>B021</td>\n",
       "      <td>438416.114511</td>\n",
       "      <td>2672.710150</td>\n",
       "      <td>2.149800e+10</td>\n",
       "      <td>Unchanged</td>\n",
       "      <td>498000.0</td>\n",
       "      <td>None</td>\n",
       "      <td>POLYGON ((-73.97746661925957 40.69650941986475...</td>\n",
       "    </tr>\n",
       "    <tr>\n",
       "      <th>4</th>\n",
       "      <td>4980.0</td>\n",
       "      <td>Triangle/Plaza</td>\n",
       "      <td>Brooklyn Heights Promenade</td>\n",
       "      <td>B223DG</td>\n",
       "      <td>14465.699799</td>\n",
       "      <td>1376.106398</td>\n",
       "      <td>2.149800e+10</td>\n",
       "      <td>Unchanged</td>\n",
       "      <td>498000.0</td>\n",
       "      <td>None</td>\n",
       "      <td>POLYGON ((-73.99746719287955 40.69692380834881...</td>\n",
       "    </tr>\n",
       "  </tbody>\n",
       "</table>\n",
       "</div>"
      ],
      "text/plain": [
       "   feat_code            landuse                   park_name parknum  \\\n",
       "0     4910.0     Community Park        Commodore Barry Park    B021   \n",
       "1     4980.0  Neighborhood Park       Pierrepont Playground    B222   \n",
       "2     4980.0  Neighborhood Park            Cobble Hill Park    B326   \n",
       "3     4980.0     Community Park        Commodore Barry Park    B021   \n",
       "4     4980.0     Triangle/Plaza  Brooklyn Heights Promenade  B223DG   \n",
       "\n",
       "      shape_area   shape_leng     source_id     status  sub_code system  \\\n",
       "0   41539.801363   829.420107  2.149100e+10    Updated  491050.0   None   \n",
       "1   21960.494920   607.555193  2.149800e+10  Unchanged  498000.0   None   \n",
       "2   28079.076265   784.421990  2.149800e+10  Unchanged  498000.0   None   \n",
       "3  438416.114511  2672.710150  2.149800e+10  Unchanged  498000.0   None   \n",
       "4   14465.699799  1376.106398  2.149800e+10  Unchanged  498000.0   None   \n",
       "\n",
       "                                            geometry  \n",
       "0  POLYGON ((-73.97922375065221 40.69799879369959...  \n",
       "1  POLYGON ((-73.99732028095745 40.69600764072165...  \n",
       "2  POLYGON ((-73.99557419919979 40.68792918280799...  \n",
       "3  POLYGON ((-73.97746661925957 40.69650941986475...  \n",
       "4  POLYGON ((-73.99746719287955 40.69692380834881...  "
      ]
     },
     "execution_count": 192,
     "metadata": {},
     "output_type": "execute_result"
    }
   ],
   "source": [
    "gs.head()"
   ]
  },
  {
   "cell_type": "code",
   "execution_count": 193,
   "metadata": {},
   "outputs": [
    {
     "data": {
      "text/plain": [
       "2031"
      ]
     },
     "execution_count": 193,
     "metadata": {},
     "output_type": "execute_result"
    }
   ],
   "source": [
    "len(set(gs['park_name']))"
   ]
  },
  {
   "cell_type": "code",
   "execution_count": 194,
   "metadata": {},
   "outputs": [
    {
     "data": {
      "text/plain": [
       "102"
      ]
     },
     "execution_count": 194,
     "metadata": {},
     "output_type": "execute_result"
    }
   ],
   "source": [
    "len(set(pz['propname']))"
   ]
  },
  {
   "cell_type": "code",
   "execution_count": 31,
   "metadata": {},
   "outputs": [
    {
     "data": {
      "text/plain": [
       "array(['Large Park Zone', 'Beach Zone', 'Flagship Park Zone',\n",
       "       'Sitting Area/Triangle/Mall', None], dtype=object)"
      ]
     },
     "execution_count": 31,
     "metadata": {},
     "output_type": "execute_result"
    }
   ],
   "source": [
    "pz.subcategor.unique()"
   ]
  },
  {
   "cell_type": "code",
   "execution_count": 13,
   "metadata": {},
   "outputs": [
    {
     "data": {
      "text/plain": [
       "0                    Wolfe's Pond Park Zone 1\n",
       "1                      Shore Road Park Zone 2\n",
       "2                                Oakland Lake\n",
       "3                           Crotona Park Lake\n",
       "4                          Rockaway Beach 11b\n",
       "5                          Rockaway Beach 01b\n",
       "6      Wildlife Sanct. & 119 St Tennis Courts\n",
       "7                  Ocean Parkway Malls Zone 7\n",
       "8                           Sutton Place Park\n",
       "9                     Fort Greene Park Zone 3\n",
       "10              Roy Wilkins Rec Center Zone 3\n",
       "11          Great Lawn And Cleopatra's Needle\n",
       "12                                  NE Forest\n",
       "13                           Rockaway Beach 9\n",
       "14                      Pelham Parkway Zone 1\n",
       "15                          Central Park West\n",
       "16                   104th St. Softball Field\n",
       "17                                   Beach 84\n",
       "18                     Fort Tryon Park Zone 3\n",
       "19                    Morningside Park Zone 3\n",
       "20                          Isham Park Zone 1\n",
       "21                        EAST RIVER PAVILION\n",
       "22                             Meadow Lake SW\n",
       "23                 Coney Island Beach Zone 2a\n",
       "24                         Rockaway Beach 02a\n",
       "25                  Pugsley Creek Park Zone 2\n",
       "26                    Clove Lakes Park Zone 2\n",
       "27                       Canarsie Park Zone 3\n",
       "28           Skate Park And Basketball Courts\n",
       "29                       Red Hook Park Zone 1\n",
       "                        ...                  \n",
       "556                           O?Connor?s Tail\n",
       "557                         Meadow Lake North\n",
       "558                  St Nicholas Park Zone 02\n",
       "559                     Soundview Park Zone 4\n",
       "560                        Powell's Cove East\n",
       "561                       Orchard Beach South\n",
       "562                      Highland Park Zone 6\n",
       "563                             The Bandshell\n",
       "564                                The Ramble\n",
       "565                  St Nicholas Park Zone 04\n",
       "566                    Highbridge Park Zone 1\n",
       "567                                The Meadow\n",
       "568               Eastern Parkway Mall Zone 2\n",
       "569              Conference House Park Zone 2\n",
       "570                Coney Island Beach Zone 7b\n",
       "571                      Canarsie Park Zone 5\n",
       "572                     Broadway Malls Zone 6\n",
       "573                            Niles Triangle\n",
       "574     Bronx River Parkway East (South Half)\n",
       "575                                Deere Park\n",
       "576           Riverside Dr. Pedestrian Zone E\n",
       "577                        Marine Park Zone 2\n",
       "578     Bronx River Parkway East (North Half)\n",
       "579                    Mosholu Parkway Zone 4\n",
       "580                    Highbridge Park Zone 6\n",
       "581              Fort Washington Park Zone 2A\n",
       "582                      McCarren Park Zone 2\n",
       "583                        Kaiser Park Zone 1\n",
       "584                          Freedom Dr. Area\n",
       "585               East River Esplanade Zone 1\n",
       "Name: sitename, dtype: object"
      ]
     },
     "execution_count": 13,
     "metadata": {},
     "output_type": "execute_result"
    }
   ],
   "source": [
    "pz.sitename"
   ]
  },
  {
   "cell_type": "code",
   "execution_count": 27,
   "metadata": {},
   "outputs": [
    {
     "data": {
      "text/html": [
       "<div>\n",
       "<style scoped>\n",
       "    .dataframe tbody tr th:only-of-type {\n",
       "        vertical-align: middle;\n",
       "    }\n",
       "\n",
       "    .dataframe tbody tr th {\n",
       "        vertical-align: top;\n",
       "    }\n",
       "\n",
       "    .dataframe thead th {\n",
       "        text-align: right;\n",
       "    }\n",
       "</style>\n",
       "<table border=\"1\" class=\"dataframe\">\n",
       "  <thead>\n",
       "    <tr style=\"text-align: right;\">\n",
       "      <th></th>\n",
       "      <th>acres</th>\n",
       "      <th>borough</th>\n",
       "      <th>communityb</th>\n",
       "      <th>councildis</th>\n",
       "      <th>department</th>\n",
       "      <th>descriptio</th>\n",
       "      <th>gispropnum</th>\n",
       "      <th>location</th>\n",
       "      <th>nys_assemb</th>\n",
       "      <th>nys_senate</th>\n",
       "      <th>omppropid</th>\n",
       "      <th>precinct</th>\n",
       "      <th>propname</th>\n",
       "      <th>retired</th>\n",
       "      <th>retireddat</th>\n",
       "      <th>sitename</th>\n",
       "      <th>subcategor</th>\n",
       "      <th>us_congres</th>\n",
       "      <th>zipcode</th>\n",
       "      <th>geometry</th>\n",
       "    </tr>\n",
       "  </thead>\n",
       "  <tbody>\n",
       "    <tr>\n",
       "      <th>0</th>\n",
       "      <td>115.968447</td>\n",
       "      <td>R</td>\n",
       "      <td>503</td>\n",
       "      <td>51</td>\n",
       "      <td>R-03</td>\n",
       "      <td>Wolfe's Pond Park Zone 1</td>\n",
       "      <td>R031</td>\n",
       "      <td>Hylan Blvd, Luten Ave, Eylandt St, Chisholm St...</td>\n",
       "      <td>62</td>\n",
       "      <td>24</td>\n",
       "      <td>R031-ZN01</td>\n",
       "      <td>123</td>\n",
       "      <td>Wolfe's Pond Park</td>\n",
       "      <td>False</td>\n",
       "      <td>None</td>\n",
       "      <td>Wolfe's Pond Park Zone 1</td>\n",
       "      <td>Large Park Zone</td>\n",
       "      <td>11</td>\n",
       "      <td>10309, 10312</td>\n",
       "      <td>POLYGON ((-74.19321766990006 40.52592464916578...</td>\n",
       "    </tr>\n",
       "    <tr>\n",
       "      <th>1</th>\n",
       "      <td>15.616045</td>\n",
       "      <td>B</td>\n",
       "      <td>310</td>\n",
       "      <td>43</td>\n",
       "      <td>B-10</td>\n",
       "      <td>Shore Park And Parkway-Shore Road Park Zone 2</td>\n",
       "      <td>B082</td>\n",
       "      <td>72nd St To Harbor View</td>\n",
       "      <td>64</td>\n",
       "      <td>22</td>\n",
       "      <td>B082-ZN02</td>\n",
       "      <td>2</td>\n",
       "      <td>Shore Park And Parkway</td>\n",
       "      <td>False</td>\n",
       "      <td>None</td>\n",
       "      <td>Shore Road Park Zone 2</td>\n",
       "      <td>Large Park Zone</td>\n",
       "      <td>11</td>\n",
       "      <td>11209</td>\n",
       "      <td>POLYGON ((-74.04053539765398 40.6300837191109,...</td>\n",
       "    </tr>\n",
       "    <tr>\n",
       "      <th>2</th>\n",
       "      <td>29.961577</td>\n",
       "      <td>Q</td>\n",
       "      <td>411</td>\n",
       "      <td>23</td>\n",
       "      <td>Q-07A</td>\n",
       "      <td>Alley Pond Park-Oakland Lake</td>\n",
       "      <td>Q001</td>\n",
       "      <td>Springfield Blvd, 46th Ave, Garland Dr, 56th Ave</td>\n",
       "      <td>26</td>\n",
       "      <td>16</td>\n",
       "      <td>Q001-ZN07</td>\n",
       "      <td>111</td>\n",
       "      <td>Alley Pond Park</td>\n",
       "      <td>False</td>\n",
       "      <td>None</td>\n",
       "      <td>Oakland Lake</td>\n",
       "      <td>Large Park Zone</td>\n",
       "      <td>6</td>\n",
       "      <td>11364</td>\n",
       "      <td>POLYGON ((-73.76052073978084 40.75921702188668...</td>\n",
       "    </tr>\n",
       "    <tr>\n",
       "      <th>3</th>\n",
       "      <td>8.009824</td>\n",
       "      <td>X</td>\n",
       "      <td>203</td>\n",
       "      <td>17</td>\n",
       "      <td>X-03</td>\n",
       "      <td>Crotona Park Lake</td>\n",
       "      <td>X010</td>\n",
       "      <td>Crotona Park East, Indian Lake, Picnic Area</td>\n",
       "      <td>79</td>\n",
       "      <td>33</td>\n",
       "      <td>X010-ZN01</td>\n",
       "      <td>42</td>\n",
       "      <td>Crotona Park</td>\n",
       "      <td>False</td>\n",
       "      <td>None</td>\n",
       "      <td>Crotona Park Lake</td>\n",
       "      <td>Large Park Zone</td>\n",
       "      <td>15</td>\n",
       "      <td>10457</td>\n",
       "      <td>POLYGON ((-73.89346452125582 40.83948578405597...</td>\n",
       "    </tr>\n",
       "    <tr>\n",
       "      <th>4</th>\n",
       "      <td>7.316096</td>\n",
       "      <td>Q</td>\n",
       "      <td>414</td>\n",
       "      <td>32</td>\n",
       "      <td>Q-14</td>\n",
       "      <td>Rockaway Beach &amp; Boardwalk-Rockaway Beach 11b</td>\n",
       "      <td>Q164</td>\n",
       "      <td>Btwn 142nd And 146th St</td>\n",
       "      <td>23</td>\n",
       "      <td>15</td>\n",
       "      <td>Q164-ZN11B</td>\n",
       "      <td>100</td>\n",
       "      <td>Rockaway Beach &amp; Boardwalk</td>\n",
       "      <td>False</td>\n",
       "      <td>None</td>\n",
       "      <td>Rockaway Beach 11b</td>\n",
       "      <td>Beach Zone</td>\n",
       "      <td>5</td>\n",
       "      <td>11694</td>\n",
       "      <td>POLYGON ((-73.86031014832309 40.56813188719809...</td>\n",
       "    </tr>\n",
       "  </tbody>\n",
       "</table>\n",
       "</div>"
      ],
      "text/plain": [
       "        acres borough communityb councildis department  \\\n",
       "0  115.968447       R        503         51       R-03   \n",
       "1   15.616045       B        310         43       B-10   \n",
       "2   29.961577       Q        411         23      Q-07A   \n",
       "3    8.009824       X        203         17       X-03   \n",
       "4    7.316096       Q        414         32       Q-14   \n",
       "\n",
       "                                      descriptio gispropnum  \\\n",
       "0                       Wolfe's Pond Park Zone 1       R031   \n",
       "1  Shore Park And Parkway-Shore Road Park Zone 2       B082   \n",
       "2                   Alley Pond Park-Oakland Lake       Q001   \n",
       "3                              Crotona Park Lake       X010   \n",
       "4  Rockaway Beach & Boardwalk-Rockaway Beach 11b       Q164   \n",
       "\n",
       "                                            location nys_assemb nys_senate  \\\n",
       "0  Hylan Blvd, Luten Ave, Eylandt St, Chisholm St...         62         24   \n",
       "1                             72nd St To Harbor View         64         22   \n",
       "2   Springfield Blvd, 46th Ave, Garland Dr, 56th Ave         26         16   \n",
       "3        Crotona Park East, Indian Lake, Picnic Area         79         33   \n",
       "4                            Btwn 142nd And 146th St         23         15   \n",
       "\n",
       "    omppropid precinct                    propname retired retireddat  \\\n",
       "0   R031-ZN01      123           Wolfe's Pond Park   False       None   \n",
       "1   B082-ZN02        2      Shore Park And Parkway   False       None   \n",
       "2   Q001-ZN07      111             Alley Pond Park   False       None   \n",
       "3   X010-ZN01       42                Crotona Park   False       None   \n",
       "4  Q164-ZN11B      100  Rockaway Beach & Boardwalk   False       None   \n",
       "\n",
       "                   sitename       subcategor us_congres       zipcode  \\\n",
       "0  Wolfe's Pond Park Zone 1  Large Park Zone         11  10309, 10312   \n",
       "1    Shore Road Park Zone 2  Large Park Zone         11         11209   \n",
       "2              Oakland Lake  Large Park Zone          6         11364   \n",
       "3         Crotona Park Lake  Large Park Zone         15         10457   \n",
       "4        Rockaway Beach 11b       Beach Zone          5         11694   \n",
       "\n",
       "                                            geometry  \n",
       "0  POLYGON ((-74.19321766990006 40.52592464916578...  \n",
       "1  POLYGON ((-74.04053539765398 40.6300837191109,...  \n",
       "2  POLYGON ((-73.76052073978084 40.75921702188668...  \n",
       "3  POLYGON ((-73.89346452125582 40.83948578405597...  \n",
       "4  POLYGON ((-73.86031014832309 40.56813188719809...  "
      ]
     },
     "execution_count": 27,
     "metadata": {},
     "output_type": "execute_result"
    }
   ],
   "source": [
    "pz.head()"
   ]
  },
  {
   "cell_type": "code",
   "execution_count": 28,
   "metadata": {},
   "outputs": [
    {
     "data": {
      "text/plain": [
       "102"
      ]
     },
     "execution_count": 28,
     "metadata": {},
     "output_type": "execute_result"
    }
   ],
   "source": [
    "len(set(pz.propname))"
   ]
  },
  {
   "cell_type": "code",
   "execution_count": 29,
   "metadata": {},
   "outputs": [
    {
     "data": {
      "text/plain": [
       "586"
      ]
     },
     "execution_count": 29,
     "metadata": {},
     "output_type": "execute_result"
    }
   ],
   "source": [
    "pz.shape[0]"
   ]
  },
  {
   "cell_type": "code",
   "execution_count": 4,
   "metadata": {},
   "outputs": [
    {
     "data": {
      "text/html": [
       "<div>\n",
       "<style scoped>\n",
       "    .dataframe tbody tr th:only-of-type {\n",
       "        vertical-align: middle;\n",
       "    }\n",
       "\n",
       "    .dataframe tbody tr th {\n",
       "        vertical-align: top;\n",
       "    }\n",
       "\n",
       "    .dataframe thead th {\n",
       "        text-align: right;\n",
       "    }\n",
       "</style>\n",
       "<table border=\"1\" class=\"dataframe\">\n",
       "  <thead>\n",
       "    <tr style=\"text-align: right;\">\n",
       "      <th></th>\n",
       "      <th>feat_code</th>\n",
       "      <th>landuse</th>\n",
       "      <th>park_name</th>\n",
       "      <th>parknum</th>\n",
       "      <th>shape_area</th>\n",
       "      <th>shape_leng</th>\n",
       "      <th>source_id</th>\n",
       "      <th>status</th>\n",
       "      <th>sub_code</th>\n",
       "      <th>system</th>\n",
       "      <th>geometry</th>\n",
       "    </tr>\n",
       "  </thead>\n",
       "  <tbody>\n",
       "    <tr>\n",
       "      <th>0</th>\n",
       "      <td>4910.0</td>\n",
       "      <td>Community Park</td>\n",
       "      <td>Commodore Barry Park</td>\n",
       "      <td>B021</td>\n",
       "      <td>41539.801363</td>\n",
       "      <td>829.420107</td>\n",
       "      <td>2.149100e+10</td>\n",
       "      <td>Updated</td>\n",
       "      <td>491050.0</td>\n",
       "      <td>None</td>\n",
       "      <td>POLYGON ((-73.97922375065221 40.69799879369959...</td>\n",
       "    </tr>\n",
       "    <tr>\n",
       "      <th>1</th>\n",
       "      <td>4980.0</td>\n",
       "      <td>Neighborhood Park</td>\n",
       "      <td>Pierrepont Playground</td>\n",
       "      <td>B222</td>\n",
       "      <td>21960.494920</td>\n",
       "      <td>607.555193</td>\n",
       "      <td>2.149800e+10</td>\n",
       "      <td>Unchanged</td>\n",
       "      <td>498000.0</td>\n",
       "      <td>None</td>\n",
       "      <td>POLYGON ((-73.99732028095745 40.69600764072165...</td>\n",
       "    </tr>\n",
       "    <tr>\n",
       "      <th>2</th>\n",
       "      <td>4980.0</td>\n",
       "      <td>Neighborhood Park</td>\n",
       "      <td>Cobble Hill Park</td>\n",
       "      <td>B326</td>\n",
       "      <td>28079.076265</td>\n",
       "      <td>784.421990</td>\n",
       "      <td>2.149800e+10</td>\n",
       "      <td>Unchanged</td>\n",
       "      <td>498000.0</td>\n",
       "      <td>None</td>\n",
       "      <td>POLYGON ((-73.99557419919979 40.68792918280799...</td>\n",
       "    </tr>\n",
       "    <tr>\n",
       "      <th>3</th>\n",
       "      <td>4980.0</td>\n",
       "      <td>Community Park</td>\n",
       "      <td>Commodore Barry Park</td>\n",
       "      <td>B021</td>\n",
       "      <td>438416.114511</td>\n",
       "      <td>2672.710150</td>\n",
       "      <td>2.149800e+10</td>\n",
       "      <td>Unchanged</td>\n",
       "      <td>498000.0</td>\n",
       "      <td>None</td>\n",
       "      <td>POLYGON ((-73.97746661925957 40.69650941986475...</td>\n",
       "    </tr>\n",
       "    <tr>\n",
       "      <th>4</th>\n",
       "      <td>4980.0</td>\n",
       "      <td>Triangle/Plaza</td>\n",
       "      <td>Brooklyn Heights Promenade</td>\n",
       "      <td>B223DG</td>\n",
       "      <td>14465.699799</td>\n",
       "      <td>1376.106398</td>\n",
       "      <td>2.149800e+10</td>\n",
       "      <td>Unchanged</td>\n",
       "      <td>498000.0</td>\n",
       "      <td>None</td>\n",
       "      <td>POLYGON ((-73.99746719287955 40.69692380834881...</td>\n",
       "    </tr>\n",
       "  </tbody>\n",
       "</table>\n",
       "</div>"
      ],
      "text/plain": [
       "   feat_code            landuse                   park_name parknum  \\\n",
       "0     4910.0     Community Park        Commodore Barry Park    B021   \n",
       "1     4980.0  Neighborhood Park       Pierrepont Playground    B222   \n",
       "2     4980.0  Neighborhood Park            Cobble Hill Park    B326   \n",
       "3     4980.0     Community Park        Commodore Barry Park    B021   \n",
       "4     4980.0     Triangle/Plaza  Brooklyn Heights Promenade  B223DG   \n",
       "\n",
       "      shape_area   shape_leng     source_id     status  sub_code system  \\\n",
       "0   41539.801363   829.420107  2.149100e+10    Updated  491050.0   None   \n",
       "1   21960.494920   607.555193  2.149800e+10  Unchanged  498000.0   None   \n",
       "2   28079.076265   784.421990  2.149800e+10  Unchanged  498000.0   None   \n",
       "3  438416.114511  2672.710150  2.149800e+10  Unchanged  498000.0   None   \n",
       "4   14465.699799  1376.106398  2.149800e+10  Unchanged  498000.0   None   \n",
       "\n",
       "                                            geometry  \n",
       "0  POLYGON ((-73.97922375065221 40.69799879369959...  \n",
       "1  POLYGON ((-73.99732028095745 40.69600764072165...  \n",
       "2  POLYGON ((-73.99557419919979 40.68792918280799...  \n",
       "3  POLYGON ((-73.97746661925957 40.69650941986475...  \n",
       "4  POLYGON ((-73.99746719287955 40.69692380834881...  "
      ]
     },
     "execution_count": 4,
     "metadata": {},
     "output_type": "execute_result"
    }
   ],
   "source": [
    "gs.head()"
   ]
  },
  {
   "cell_type": "code",
   "execution_count": 9,
   "metadata": {},
   "outputs": [
    {
     "data": {
      "text/plain": [
       "count    1.249100e+04\n",
       "mean     9.427334e+04\n",
       "std      9.924306e+05\n",
       "min      2.229973e+01\n",
       "25%      1.534914e+03\n",
       "50%      3.578557e+03\n",
       "75%      1.670844e+04\n",
       "max      6.299085e+07\n",
       "Name: shape_area, dtype: float64"
      ]
     },
     "execution_count": 9,
     "metadata": {},
     "output_type": "execute_result"
    }
   ],
   "source": [
    "gs.shape_area.describe()"
   ]
  },
  {
   "cell_type": "code",
   "execution_count": 14,
   "metadata": {},
   "outputs": [],
   "source": [
    "bin = [0,1535,3578,16708,62990850]"
   ]
  },
  {
   "cell_type": "code",
   "execution_count": 15,
   "metadata": {},
   "outputs": [],
   "source": [
    "gs['area'] = pd.cut(gs['shape_area'],bin)"
   ]
  },
  {
   "cell_type": "code",
   "execution_count": 20,
   "metadata": {},
   "outputs": [
    {
     "data": {
      "image/png": "[encoded data removed]",
      "text/plain": [
       "<matplotlib.figure.Figure at 0x7f78ec69c358>"
      ]
     },
     "metadata": {},
     "output_type": "display_data"
    }
   ],
   "source": [
    "import matplotlib.pyplot as plt \n",
    "import seaborn as sns\n",
    "sns.set(style=\"white\")\n",
    "sns.set(style=\"whitegrid\", color_codes=True)\n",
    "sns.countplot(x = 'area', data = gs, palette = 'hls')\n",
    "plt.show()"
   ]
  },
  {
   "cell_type": "code",
   "execution_count": 40,
   "metadata": {},
   "outputs": [],
   "source": [
    "facility=pd.read_csv(\"/nfshome\"+\"/cl4855\"+\"/ADS\"+\"/How-greenspace-makes-the-green\"+\"/Parks Zones\"+\"/Directory_of_Parks_Disability_Accessibility_Facilities_and_Programs.csv\")"
   ]
  },
  {
   "cell_type": "code",
   "execution_count": 41,
   "metadata": {},
   "outputs": [
    {
     "data": {
      "text/html": [
       "<div>\n",
       "<style scoped>\n",
       "    .dataframe tbody tr th:only-of-type {\n",
       "        vertical-align: middle;\n",
       "    }\n",
       "\n",
       "    .dataframe tbody tr th {\n",
       "        vertical-align: top;\n",
       "    }\n",
       "\n",
       "    .dataframe thead th {\n",
       "        text-align: right;\n",
       "    }\n",
       "</style>\n",
       "<table border=\"1\" class=\"dataframe\">\n",
       "  <thead>\n",
       "    <tr style=\"text-align: right;\">\n",
       "      <th></th>\n",
       "      <th>Name</th>\n",
       "      <th>Location</th>\n",
       "      <th>Type</th>\n",
       "    </tr>\n",
       "  </thead>\n",
       "  <tbody>\n",
       "    <tr>\n",
       "      <th>0</th>\n",
       "      <td>Tremont Park</td>\n",
       "      <td>Arthur Avenue &amp; East Tremont Avenue</td>\n",
       "      <td>Bocce Courts</td>\n",
       "    </tr>\n",
       "    <tr>\n",
       "      <th>1</th>\n",
       "      <td>Ferry Point Park</td>\n",
       "      <td>Corner of Balcom Avenue and Dewey Avenue</td>\n",
       "      <td>Basketball Courts</td>\n",
       "    </tr>\n",
       "    <tr>\n",
       "      <th>2</th>\n",
       "      <td>Franz Sigel Park</td>\n",
       "      <td>E 153 St. &amp; Grand Concourse</td>\n",
       "      <td>Basketball Courts</td>\n",
       "    </tr>\n",
       "    <tr>\n",
       "      <th>3</th>\n",
       "      <td>Gun Hill Playground</td>\n",
       "      <td>Holland Ave. &amp; Magenta St.</td>\n",
       "      <td>Basketball Courts</td>\n",
       "    </tr>\n",
       "    <tr>\n",
       "      <th>4</th>\n",
       "      <td>Macombs</td>\n",
       "      <td>E 158th St. &amp; Ruppert Plaza</td>\n",
       "      <td>Basketball Courts</td>\n",
       "    </tr>\n",
       "  </tbody>\n",
       "</table>\n",
       "</div>"
      ],
      "text/plain": [
       "                  Name                                  Location  \\\n",
       "0         Tremont Park       Arthur Avenue & East Tremont Avenue   \n",
       "1     Ferry Point Park  Corner of Balcom Avenue and Dewey Avenue   \n",
       "2     Franz Sigel Park               E 153 St. & Grand Concourse   \n",
       "3  Gun Hill Playground                Holland Ave. & Magenta St.   \n",
       "4              Macombs               E 158th St. & Ruppert Plaza   \n",
       "\n",
       "                Type  \n",
       "0       Bocce Courts  \n",
       "1  Basketball Courts  \n",
       "2  Basketball Courts  \n",
       "3  Basketball Courts  \n",
       "4  Basketball Courts  "
      ]
     },
     "execution_count": 41,
     "metadata": {},
     "output_type": "execute_result"
    }
   ],
   "source": [
    "facility.head()"
   ]
  },
  {
   "cell_type": "code",
   "execution_count": null,
   "metadata": {},
   "outputs": [],
   "source": [
    "facility.shape[0]"
   ]
  },
  {
   "cell_type": "code",
   "execution_count": 42,
   "metadata": {},
   "outputs": [],
   "source": [
    "df=pd.DataFrame(facility.groupby(['Name','Type']).size().reset_index())"
   ]
  },
  {
   "cell_type": "code",
   "execution_count": 43,
   "metadata": {},
   "outputs": [],
   "source": [
    "facility=pd.pivot_table(df,index='Name',columns='Type',values=0,fill_value=0)"
   ]
  },
  {
   "cell_type": "code",
   "execution_count": 44,
   "metadata": {},
   "outputs": [],
   "source": [
    "facility=facility.reset_index()"
   ]
  },
  {
   "cell_type": "code",
   "execution_count": 45,
   "metadata": {},
   "outputs": [],
   "source": [
    "parkfa=facility.merge(pz,right_on=\"propname\",left_on=\"Name\")"
   ]
  },
  {
   "cell_type": "code",
   "execution_count": 23,
   "metadata": {},
   "outputs": [
    {
     "data": {
      "text/plain": [
       "2031"
      ]
     },
     "execution_count": 23,
     "metadata": {},
     "output_type": "execute_result"
    }
   ],
   "source": [
    "len(set(gs.park_name))"
   ]
  },
  {
   "cell_type": "code",
   "execution_count": 22,
   "metadata": {},
   "outputs": [
    {
     "data": {
      "text/plain": [
       "12491"
      ]
     },
     "execution_count": 22,
     "metadata": {},
     "output_type": "execute_result"
    }
   ],
   "source": [
    "gs.shape[0]"
   ]
  },
  {
   "cell_type": "code",
   "execution_count": 24,
   "metadata": {},
   "outputs": [
    {
     "data": {
      "text/plain": [
       "731"
      ]
     },
     "execution_count": 24,
     "metadata": {},
     "output_type": "execute_result"
    }
   ],
   "source": [
    "len(set(facility.Name))"
   ]
  },
  {
   "cell_type": "code",
   "execution_count": 20,
   "metadata": {},
   "outputs": [
    {
     "data": {
      "text/html": [
       "<div>\n",
       "<style scoped>\n",
       "    .dataframe tbody tr th:only-of-type {\n",
       "        vertical-align: middle;\n",
       "    }\n",
       "\n",
       "    .dataframe tbody tr th {\n",
       "        vertical-align: top;\n",
       "    }\n",
       "\n",
       "    .dataframe thead th {\n",
       "        text-align: right;\n",
       "    }\n",
       "</style>\n",
       "<table border=\"1\" class=\"dataframe\">\n",
       "  <thead>\n",
       "    <tr style=\"text-align: right;\">\n",
       "      <th>Type</th>\n",
       "      <th>Name</th>\n",
       "      <th>Baseball Fields</th>\n",
       "      <th>Basketball Courts</th>\n",
       "      <th>Bathrooms</th>\n",
       "      <th>Beaches</th>\n",
       "      <th>Bocce Courts</th>\n",
       "      <th>Football Fields</th>\n",
       "      <th>Ice Skating Rinks</th>\n",
       "      <th>Nature Centers</th>\n",
       "      <th>Playgrounds</th>\n",
       "      <th>Pools</th>\n",
       "      <th>Recreation Centers</th>\n",
       "      <th>Tennis Courts</th>\n",
       "    </tr>\n",
       "  </thead>\n",
       "  <tbody>\n",
       "    <tr>\n",
       "      <th>0</th>\n",
       "      <td>100% Playground</td>\n",
       "      <td>0</td>\n",
       "      <td>0</td>\n",
       "      <td>0</td>\n",
       "      <td>0</td>\n",
       "      <td>0</td>\n",
       "      <td>0</td>\n",
       "      <td>0</td>\n",
       "      <td>0</td>\n",
       "      <td>1</td>\n",
       "      <td>0</td>\n",
       "      <td>0</td>\n",
       "      <td>0</td>\n",
       "    </tr>\n",
       "    <tr>\n",
       "      <th>1</th>\n",
       "      <td>110th St &amp; Lenox Ave Playground</td>\n",
       "      <td>0</td>\n",
       "      <td>0</td>\n",
       "      <td>0</td>\n",
       "      <td>0</td>\n",
       "      <td>0</td>\n",
       "      <td>0</td>\n",
       "      <td>0</td>\n",
       "      <td>0</td>\n",
       "      <td>1</td>\n",
       "      <td>0</td>\n",
       "      <td>0</td>\n",
       "      <td>0</td>\n",
       "    </tr>\n",
       "    <tr>\n",
       "      <th>2</th>\n",
       "      <td>110th St Playground</td>\n",
       "      <td>0</td>\n",
       "      <td>0</td>\n",
       "      <td>0</td>\n",
       "      <td>0</td>\n",
       "      <td>0</td>\n",
       "      <td>0</td>\n",
       "      <td>0</td>\n",
       "      <td>0</td>\n",
       "      <td>1</td>\n",
       "      <td>0</td>\n",
       "      <td>0</td>\n",
       "      <td>0</td>\n",
       "    </tr>\n",
       "    <tr>\n",
       "      <th>3</th>\n",
       "      <td>115th Street Playground</td>\n",
       "      <td>0</td>\n",
       "      <td>0</td>\n",
       "      <td>0</td>\n",
       "      <td>0</td>\n",
       "      <td>0</td>\n",
       "      <td>0</td>\n",
       "      <td>0</td>\n",
       "      <td>0</td>\n",
       "      <td>1</td>\n",
       "      <td>0</td>\n",
       "      <td>0</td>\n",
       "      <td>0</td>\n",
       "    </tr>\n",
       "    <tr>\n",
       "      <th>4</th>\n",
       "      <td>157th St Playground</td>\n",
       "      <td>0</td>\n",
       "      <td>0</td>\n",
       "      <td>0</td>\n",
       "      <td>0</td>\n",
       "      <td>0</td>\n",
       "      <td>0</td>\n",
       "      <td>0</td>\n",
       "      <td>0</td>\n",
       "      <td>1</td>\n",
       "      <td>0</td>\n",
       "      <td>0</td>\n",
       "      <td>0</td>\n",
       "    </tr>\n",
       "  </tbody>\n",
       "</table>\n",
       "</div>"
      ],
      "text/plain": [
       "Type                             Name  Baseball Fields  Basketball Courts  \\\n",
       "0                     100% Playground                0                  0   \n",
       "1     110th St & Lenox Ave Playground                0                  0   \n",
       "2                 110th St Playground                0                  0   \n",
       "3             115th Street Playground                0                  0   \n",
       "4                 157th St Playground                0                  0   \n",
       "\n",
       "Type  Bathrooms  Beaches  Bocce Courts  Football Fields  Ice Skating Rinks  \\\n",
       "0             0        0             0                0                  0   \n",
       "1             0        0             0                0                  0   \n",
       "2             0        0             0                0                  0   \n",
       "3             0        0             0                0                  0   \n",
       "4             0        0             0                0                  0   \n",
       "\n",
       "Type  Nature Centers  Playgrounds  Pools  Recreation Centers  Tennis Courts  \n",
       "0                  0            1      0                   0              0  \n",
       "1                  0            1      0                   0              0  \n",
       "2                  0            1      0                   0              0  \n",
       "3                  0            1      0                   0              0  \n",
       "4                  0            1      0                   0              0  "
      ]
     },
     "execution_count": 20,
     "metadata": {},
     "output_type": "execute_result"
    }
   ],
   "source": [
    "facility.head()"
   ]
  },
  {
   "cell_type": "code",
   "execution_count": 46,
   "metadata": {},
   "outputs": [
    {
     "data": {
      "text/html": [
       "<div>\n",
       "<style scoped>\n",
       "    .dataframe tbody tr th:only-of-type {\n",
       "        vertical-align: middle;\n",
       "    }\n",
       "\n",
       "    .dataframe tbody tr th {\n",
       "        vertical-align: top;\n",
       "    }\n",
       "\n",
       "    .dataframe thead th {\n",
       "        text-align: right;\n",
       "    }\n",
       "</style>\n",
       "<table border=\"1\" class=\"dataframe\">\n",
       "  <thead>\n",
       "    <tr style=\"text-align: right;\">\n",
       "      <th></th>\n",
       "      <th>Name</th>\n",
       "      <th>Baseball Fields</th>\n",
       "      <th>Basketball Courts</th>\n",
       "      <th>Bathrooms</th>\n",
       "      <th>Beaches</th>\n",
       "      <th>Bocce Courts</th>\n",
       "      <th>Football Fields</th>\n",
       "      <th>Ice Skating Rinks</th>\n",
       "      <th>Nature Centers</th>\n",
       "      <th>Playgrounds</th>\n",
       "      <th>...</th>\n",
       "      <th>omppropid</th>\n",
       "      <th>precinct</th>\n",
       "      <th>propname</th>\n",
       "      <th>retired</th>\n",
       "      <th>retireddat</th>\n",
       "      <th>sitename</th>\n",
       "      <th>subcategor</th>\n",
       "      <th>us_congres</th>\n",
       "      <th>zipcode</th>\n",
       "      <th>geometry</th>\n",
       "    </tr>\n",
       "  </thead>\n",
       "  <tbody>\n",
       "    <tr>\n",
       "      <th>0</th>\n",
       "      <td>Bloomingdale Park</td>\n",
       "      <td>0</td>\n",
       "      <td>0</td>\n",
       "      <td>1</td>\n",
       "      <td>0</td>\n",
       "      <td>0</td>\n",
       "      <td>0</td>\n",
       "      <td>0</td>\n",
       "      <td>0</td>\n",
       "      <td>1</td>\n",
       "      <td>...</td>\n",
       "      <td>R106-ZN02</td>\n",
       "      <td>123</td>\n",
       "      <td>Bloomingdale Park</td>\n",
       "      <td>False</td>\n",
       "      <td>None</td>\n",
       "      <td>Bloomingdale Park Zone 2</td>\n",
       "      <td>Large Park Zone</td>\n",
       "      <td>11</td>\n",
       "      <td>10309</td>\n",
       "      <td>POLYGON ((-74.21152212620758 40.53391366977822...</td>\n",
       "    </tr>\n",
       "    <tr>\n",
       "      <th>1</th>\n",
       "      <td>Bloomingdale Park</td>\n",
       "      <td>0</td>\n",
       "      <td>0</td>\n",
       "      <td>1</td>\n",
       "      <td>0</td>\n",
       "      <td>0</td>\n",
       "      <td>0</td>\n",
       "      <td>0</td>\n",
       "      <td>0</td>\n",
       "      <td>1</td>\n",
       "      <td>...</td>\n",
       "      <td>R106-ZN01</td>\n",
       "      <td>123</td>\n",
       "      <td>Bloomingdale Park</td>\n",
       "      <td>False</td>\n",
       "      <td>None</td>\n",
       "      <td>Bloomingdale Park Zone 1</td>\n",
       "      <td>Large Park Zone</td>\n",
       "      <td>11</td>\n",
       "      <td>10309</td>\n",
       "      <td>POLYGON ((-74.22280620386226 40.53326378423717...</td>\n",
       "    </tr>\n",
       "    <tr>\n",
       "      <th>2</th>\n",
       "      <td>Bloomingdale Park</td>\n",
       "      <td>0</td>\n",
       "      <td>0</td>\n",
       "      <td>1</td>\n",
       "      <td>0</td>\n",
       "      <td>0</td>\n",
       "      <td>0</td>\n",
       "      <td>0</td>\n",
       "      <td>0</td>\n",
       "      <td>1</td>\n",
       "      <td>...</td>\n",
       "      <td>R106-ZN03</td>\n",
       "      <td>3</td>\n",
       "      <td>Bloomingdale Park</td>\n",
       "      <td>False</td>\n",
       "      <td>None</td>\n",
       "      <td>Bloomingdale Park Zone 3</td>\n",
       "      <td>Large Park Zone</td>\n",
       "      <td>11</td>\n",
       "      <td>10309</td>\n",
       "      <td>POLYGON ((-74.20814980464327 40.53551445313607...</td>\n",
       "    </tr>\n",
       "    <tr>\n",
       "      <th>3</th>\n",
       "      <td>Carl Schurz Park</td>\n",
       "      <td>0</td>\n",
       "      <td>0</td>\n",
       "      <td>1</td>\n",
       "      <td>0</td>\n",
       "      <td>0</td>\n",
       "      <td>0</td>\n",
       "      <td>0</td>\n",
       "      <td>0</td>\n",
       "      <td>0</td>\n",
       "      <td>...</td>\n",
       "      <td>M081-ZN02</td>\n",
       "      <td>3</td>\n",
       "      <td>Carl Schurz Park</td>\n",
       "      <td>False</td>\n",
       "      <td>None</td>\n",
       "      <td>Carl Schurz Promenade</td>\n",
       "      <td>Large Park Zone</td>\n",
       "      <td>12</td>\n",
       "      <td>10028</td>\n",
       "      <td>POLYGON ((-73.94401274946013 40.77549901252149...</td>\n",
       "    </tr>\n",
       "    <tr>\n",
       "      <th>4</th>\n",
       "      <td>Carl Schurz Park</td>\n",
       "      <td>0</td>\n",
       "      <td>0</td>\n",
       "      <td>1</td>\n",
       "      <td>0</td>\n",
       "      <td>0</td>\n",
       "      <td>0</td>\n",
       "      <td>0</td>\n",
       "      <td>0</td>\n",
       "      <td>0</td>\n",
       "      <td>...</td>\n",
       "      <td>M081-ZN01</td>\n",
       "      <td>2</td>\n",
       "      <td>Carl Schurz Park</td>\n",
       "      <td>False</td>\n",
       "      <td>None</td>\n",
       "      <td>Carl Schurz Main Lawn</td>\n",
       "      <td>Large Park Zone</td>\n",
       "      <td>12</td>\n",
       "      <td>10028</td>\n",
       "      <td>POLYGON ((-73.94259426055146 40.77526153637332...</td>\n",
       "    </tr>\n",
       "  </tbody>\n",
       "</table>\n",
       "<p>5 rows × 33 columns</p>\n",
       "</div>"
      ],
      "text/plain": [
       "                Name  Baseball Fields  Basketball Courts  Bathrooms  Beaches  \\\n",
       "0  Bloomingdale Park                0                  0          1        0   \n",
       "1  Bloomingdale Park                0                  0          1        0   \n",
       "2  Bloomingdale Park                0                  0          1        0   \n",
       "3   Carl Schurz Park                0                  0          1        0   \n",
       "4   Carl Schurz Park                0                  0          1        0   \n",
       "\n",
       "   Bocce Courts  Football Fields  Ice Skating Rinks  Nature Centers  \\\n",
       "0             0                0                  0               0   \n",
       "1             0                0                  0               0   \n",
       "2             0                0                  0               0   \n",
       "3             0                0                  0               0   \n",
       "4             0                0                  0               0   \n",
       "\n",
       "   Playgrounds                        ...                          omppropid  \\\n",
       "0            1                        ...                          R106-ZN02   \n",
       "1            1                        ...                          R106-ZN01   \n",
       "2            1                        ...                          R106-ZN03   \n",
       "3            0                        ...                          M081-ZN02   \n",
       "4            0                        ...                          M081-ZN01   \n",
       "\n",
       "   precinct           propname  retired retireddat                  sitename  \\\n",
       "0       123  Bloomingdale Park    False       None  Bloomingdale Park Zone 2   \n",
       "1       123  Bloomingdale Park    False       None  Bloomingdale Park Zone 1   \n",
       "2         3  Bloomingdale Park    False       None  Bloomingdale Park Zone 3   \n",
       "3         3   Carl Schurz Park    False       None     Carl Schurz Promenade   \n",
       "4         2   Carl Schurz Park    False       None     Carl Schurz Main Lawn   \n",
       "\n",
       "        subcategor us_congres zipcode  \\\n",
       "0  Large Park Zone         11   10309   \n",
       "1  Large Park Zone         11   10309   \n",
       "2  Large Park Zone         11   10309   \n",
       "3  Large Park Zone         12   10028   \n",
       "4  Large Park Zone         12   10028   \n",
       "\n",
       "                                            geometry  \n",
       "0  POLYGON ((-74.21152212620758 40.53391366977822...  \n",
       "1  POLYGON ((-74.22280620386226 40.53326378423717...  \n",
       "2  POLYGON ((-74.20814980464327 40.53551445313607...  \n",
       "3  POLYGON ((-73.94401274946013 40.77549901252149...  \n",
       "4  POLYGON ((-73.94259426055146 40.77526153637332...  \n",
       "\n",
       "[5 rows x 33 columns]"
      ]
     },
     "execution_count": 46,
     "metadata": {},
     "output_type": "execute_result"
    }
   ],
   "source": [
    "parkfa.head()"
   ]
  },
  {
   "cell_type": "code",
   "execution_count": 71,
   "metadata": {},
   "outputs": [],
   "source": [
    "parkfageo = parkfa[['Name','geometry']]"
   ]
  },
  {
   "cell_type": "code",
   "execution_count": 80,
   "metadata": {},
   "outputs": [],
   "source": [
    "parkfageo = gpd.GeoDataFrame(parkfageo)"
   ]
  },
  {
   "cell_type": "code",
   "execution_count": 81,
   "metadata": {},
   "outputs": [],
   "source": [
    "parkfageo = parkfageo.dissolve(by='Name')"
   ]
  },
  {
   "cell_type": "code",
   "execution_count": 86,
   "metadata": {},
   "outputs": [],
   "source": [
    "park=parkfageo.merge(facility,on=\"Name\")"
   ]
  },
  {
   "cell_type": "code",
   "execution_count": 87,
   "metadata": {},
   "outputs": [
    {
     "data": {
      "text/html": [
       "<div>\n",
       "<style scoped>\n",
       "    .dataframe tbody tr th:only-of-type {\n",
       "        vertical-align: middle;\n",
       "    }\n",
       "\n",
       "    .dataframe tbody tr th {\n",
       "        vertical-align: top;\n",
       "    }\n",
       "\n",
       "    .dataframe thead th {\n",
       "        text-align: right;\n",
       "    }\n",
       "</style>\n",
       "<table border=\"1\" class=\"dataframe\">\n",
       "  <thead>\n",
       "    <tr style=\"text-align: right;\">\n",
       "      <th></th>\n",
       "      <th>Name</th>\n",
       "      <th>geometry</th>\n",
       "      <th>Baseball Fields</th>\n",
       "      <th>Basketball Courts</th>\n",
       "      <th>Bathrooms</th>\n",
       "      <th>Beaches</th>\n",
       "      <th>Bocce Courts</th>\n",
       "      <th>Football Fields</th>\n",
       "      <th>Ice Skating Rinks</th>\n",
       "      <th>Nature Centers</th>\n",
       "      <th>Playgrounds</th>\n",
       "      <th>Pools</th>\n",
       "      <th>Recreation Centers</th>\n",
       "      <th>Tennis Courts</th>\n",
       "    </tr>\n",
       "  </thead>\n",
       "  <tbody>\n",
       "    <tr>\n",
       "      <th>0</th>\n",
       "      <td>Bloomingdale Park</td>\n",
       "      <td>(POLYGON ((-74.21152212620758 40.5339136697782...</td>\n",
       "      <td>0</td>\n",
       "      <td>0</td>\n",
       "      <td>1</td>\n",
       "      <td>0</td>\n",
       "      <td>0</td>\n",
       "      <td>0</td>\n",
       "      <td>0</td>\n",
       "      <td>0</td>\n",
       "      <td>1</td>\n",
       "      <td>0</td>\n",
       "      <td>0</td>\n",
       "      <td>0</td>\n",
       "    </tr>\n",
       "    <tr>\n",
       "      <th>1</th>\n",
       "      <td>Carl Schurz Park</td>\n",
       "      <td>POLYGON ((-73.94259426055146 40.77526153637332...</td>\n",
       "      <td>0</td>\n",
       "      <td>0</td>\n",
       "      <td>1</td>\n",
       "      <td>0</td>\n",
       "      <td>0</td>\n",
       "      <td>0</td>\n",
       "      <td>0</td>\n",
       "      <td>0</td>\n",
       "      <td>0</td>\n",
       "      <td>0</td>\n",
       "      <td>0</td>\n",
       "      <td>0</td>\n",
       "    </tr>\n",
       "    <tr>\n",
       "      <th>2</th>\n",
       "      <td>Conference House Park</td>\n",
       "      <td>POLYGON ((-74.25024120770684 40.49747637123968...</td>\n",
       "      <td>0</td>\n",
       "      <td>0</td>\n",
       "      <td>1</td>\n",
       "      <td>0</td>\n",
       "      <td>0</td>\n",
       "      <td>0</td>\n",
       "      <td>0</td>\n",
       "      <td>0</td>\n",
       "      <td>0</td>\n",
       "      <td>0</td>\n",
       "      <td>0</td>\n",
       "      <td>0</td>\n",
       "    </tr>\n",
       "    <tr>\n",
       "      <th>3</th>\n",
       "      <td>Crocheron Park</td>\n",
       "      <td>POLYGON ((-73.76594883414562 40.77043224484991...</td>\n",
       "      <td>0</td>\n",
       "      <td>0</td>\n",
       "      <td>0</td>\n",
       "      <td>0</td>\n",
       "      <td>0</td>\n",
       "      <td>0</td>\n",
       "      <td>0</td>\n",
       "      <td>0</td>\n",
       "      <td>0</td>\n",
       "      <td>0</td>\n",
       "      <td>0</td>\n",
       "      <td>1</td>\n",
       "    </tr>\n",
       "    <tr>\n",
       "      <th>4</th>\n",
       "      <td>Crotona Park</td>\n",
       "      <td>(POLYGON ((-73.89756590868625 40.8364389088575...</td>\n",
       "      <td>0</td>\n",
       "      <td>0</td>\n",
       "      <td>0</td>\n",
       "      <td>0</td>\n",
       "      <td>0</td>\n",
       "      <td>0</td>\n",
       "      <td>0</td>\n",
       "      <td>0</td>\n",
       "      <td>0</td>\n",
       "      <td>0</td>\n",
       "      <td>0</td>\n",
       "      <td>1</td>\n",
       "    </tr>\n",
       "  </tbody>\n",
       "</table>\n",
       "</div>"
      ],
      "text/plain": [
       "                    Name                                           geometry  \\\n",
       "0      Bloomingdale Park  (POLYGON ((-74.21152212620758 40.5339136697782...   \n",
       "1       Carl Schurz Park  POLYGON ((-73.94259426055146 40.77526153637332...   \n",
       "2  Conference House Park  POLYGON ((-74.25024120770684 40.49747637123968...   \n",
       "3         Crocheron Park  POLYGON ((-73.76594883414562 40.77043224484991...   \n",
       "4           Crotona Park  (POLYGON ((-73.89756590868625 40.8364389088575...   \n",
       "\n",
       "   Baseball Fields  Basketball Courts  Bathrooms  Beaches  Bocce Courts  \\\n",
       "0                0                  0          1        0             0   \n",
       "1                0                  0          1        0             0   \n",
       "2                0                  0          1        0             0   \n",
       "3                0                  0          0        0             0   \n",
       "4                0                  0          0        0             0   \n",
       "\n",
       "   Football Fields  Ice Skating Rinks  Nature Centers  Playgrounds  Pools  \\\n",
       "0                0                  0               0            1      0   \n",
       "1                0                  0               0            0      0   \n",
       "2                0                  0               0            0      0   \n",
       "3                0                  0               0            0      0   \n",
       "4                0                  0               0            0      0   \n",
       "\n",
       "   Recreation Centers  Tennis Courts  \n",
       "0                   0              0  \n",
       "1                   0              0  \n",
       "2                   0              0  \n",
       "3                   0              1  \n",
       "4                   0              1  "
      ]
     },
     "execution_count": 87,
     "metadata": {},
     "output_type": "execute_result"
    }
   ],
   "source": [
    "park.head()"
   ]
  },
  {
   "cell_type": "code",
   "execution_count": 88,
   "metadata": {},
   "outputs": [],
   "source": [
    "park['area'] = park['geometry'].apply(lambda x: (x.area * 111**2))"
   ]
  },
  {
   "cell_type": "code",
   "execution_count": 95,
   "metadata": {},
   "outputs": [],
   "source": [
    "green=gs[['park_name','geometry']]"
   ]
  },
  {
   "cell_type": "code",
   "execution_count": 97,
   "metadata": {},
   "outputs": [],
   "source": [
    "green=green.dissolve(by='park_name')"
   ]
  },
  {
   "cell_type": "code",
   "execution_count": 98,
   "metadata": {},
   "outputs": [],
   "source": [
    "greenfa=green.merge(facility,left_on='park_name',right_on='Name')"
   ]
  },
  {
   "cell_type": "code",
   "execution_count": 106,
   "metadata": {},
   "outputs": [
    {
     "data": {
      "text/plain": [
       "<matplotlib.axes._subplots.AxesSubplot at 0x7f75e82719e8>"
      ]
     },
     "execution_count": 106,
     "metadata": {},
     "output_type": "execute_result"
    },
    {
     "data": {
      "image/png": "[encoded data removed]",
      "text/plain": [
       "<matplotlib.figure.Figure at 0x7f75e82e9828>"
      ]
     },
     "metadata": {
      "needs_background": "light"
     },
     "output_type": "display_data"
    }
   ],
   "source": [
    "greenfa.plot()"
   ]
  },
  {
   "cell_type": "code",
   "execution_count": 105,
   "metadata": {},
   "outputs": [
    {
     "data": {
      "text/plain": [
       "<matplotlib.axes._subplots.AxesSubplot at 0x7f75e82dd4a8>"
      ]
     },
     "execution_count": 105,
     "metadata": {},
     "output_type": "execute_result"
    },
    {
     "data": {
      "image/png": "[encoded data removed]",
      "text/plain": [
       "<matplotlib.figure.Figure at 0x7f75e82ef828>"
      ]
     },
     "metadata": {
      "needs_background": "light"
     },
     "output_type": "display_data"
    }
   ],
   "source": [
    "park.plot()"
   ]
  },
  {
   "cell_type": "code",
   "execution_count": 108,
   "metadata": {},
   "outputs": [
    {
     "data": {
      "text/plain": [
       "<matplotlib.axes._subplots.AxesSubplot at 0x7f75e82e9e48>"
      ]
     },
     "execution_count": 108,
     "metadata": {},
     "output_type": "execute_result"
    },
    {
     "data": {
      "image/png": "[encoded data removed]",
      "text/plain": [
       "<matplotlib.figure.Figure at 0x7f75e8202668>"
      ]
     },
     "metadata": {
      "needs_background": "light"
     },
     "output_type": "display_data"
    }
   ],
   "source": [
    "gs.plot()"
   ]
  },
  {
   "cell_type": "code",
   "execution_count": 109,
   "metadata": {},
   "outputs": [
    {
     "data": {
      "text/plain": [
       "<matplotlib.axes._subplots.AxesSubplot at 0x7f75e825ea90>"
      ]
     },
     "execution_count": 109,
     "metadata": {},
     "output_type": "execute_result"
    },
    {
     "data": {
      "image/png": "[encoded data removed]",
      "text/plain": [
       "<matplotlib.figure.Figure at 0x7f75e816c080>"
      ]
     },
     "metadata": {
      "needs_background": "light"
     },
     "output_type": "display_data"
    }
   ],
   "source": [
    "pz.plot()"
   ]
  },
  {
   "cell_type": "code",
   "execution_count": 197,
   "metadata": {},
   "outputs": [],
   "source": [
    "dog=pd.read_json('DPR_DogRuns_001.json')\n",
    "bbq=pd.read_json('DPR_Barbecue_001.json')\n",
    "basket=pd.read_json('DPR_Basketball_001.json')\n",
    "eat=pd.read_json('DPR_Eateries_001.json')\n",
    "plg=pd.read_json('DPR_Playgrounds_001.json')\n",
    "ten=pd.read_json('DPR_Tennis_001.json')\n",
    "skt=pd.read_json('DPR_IceSkating_001.json')"
   ]
  },
  {
   "cell_type": "code",
   "execution_count": 198,
   "metadata": {},
   "outputs": [],
   "source": [
    "ten['facility']='Tennis'\n",
    "bbq['facility']='Barbecue'\n",
    "dog['facility']='Dogfriend'\n",
    "basket['facility']='Basketball'\n",
    "eat['facility']='Eateries'\n",
    "plg['facility']='Playground'\n",
    "skt['facility']='skate'"
   ]
  },
  {
   "cell_type": "code",
   "execution_count": 199,
   "metadata": {},
   "outputs": [],
   "source": [
    "bbq=bbq[['Prop_ID','facility']]\n",
    "ten=ten[['Prop_ID','facility']]\n",
    "dog=dog[['Prop_ID','facility']]\n",
    "basket=basket[['Prop_ID','facility']]\n",
    "eat=eat[['park_id','facility']]\n",
    "plg=plg[['Prop_ID','facility']]\n",
    "skt=skt[['Prop_ID','facility']]"
   ]
  },
  {
   "cell_type": "code",
   "execution_count": 200,
   "metadata": {},
   "outputs": [],
   "source": [
    "eat=pd.DataFrame(eat)"
   ]
  },
  {
   "cell_type": "code",
   "execution_count": 201,
   "metadata": {},
   "outputs": [],
   "source": [
    "eat.rename(columns={'park_id':'Prop_ID'},inplace=True)"
   ]
  },
  {
   "cell_type": "code",
   "execution_count": 202,
   "metadata": {},
   "outputs": [],
   "source": [
    "facility=pd.concat([bbq,ten,dog,basket,eat,plg,skt])"
   ]
  },
  {
   "cell_type": "code",
   "execution_count": 203,
   "metadata": {},
   "outputs": [],
   "source": [
    "df=pd.DataFrame(facility.groupby(['Prop_ID','facility']).size().reset_index())"
   ]
  },
  {
   "cell_type": "code",
   "execution_count": 204,
   "metadata": {},
   "outputs": [],
   "source": [
    "facility=pd.pivot_table(df,index='Prop_ID',columns='facility',values=0,fill_value=0)"
   ]
  },
  {
   "cell_type": "code",
   "execution_count": 205,
   "metadata": {},
   "outputs": [],
   "source": [
    "facility=facility.reset_index()"
   ]
  },
  {
   "cell_type": "code",
   "execution_count": 206,
   "metadata": {},
   "outputs": [],
   "source": [
    "facility=facility.iloc[1:]"
   ]
  },
  {
   "cell_type": "code",
   "execution_count": 207,
   "metadata": {},
   "outputs": [],
   "source": [
    "greenspace=gpd.GeoDataFrame(gs[['parknum','geometry']])\n",
    "greenspace = greenspace.dissolve(by='parknum')\n",
    "greenspace=greenspace.reset_index()\n",
    "facilitygs=facility.merge(greenspace,left_on='Prop_ID',right_on=\"parknum\")"
   ]
  },
  {
   "cell_type": "code",
   "execution_count": 208,
   "metadata": {},
   "outputs": [
    {
     "data": {
      "text/html": [
       "<div>\n",
       "<table border=\"1\" class=\"dataframe\">\n",
       "  <thead>\n",
       "    <tr style=\"text-align: right;\">\n",
       "      <th>facility</th>\n",
       "      <th>Prop_ID</th>\n",
       "      <th>Barbecue</th>\n",
       "      <th>Basketball</th>\n",
       "      <th>Dogfriend</th>\n",
       "      <th>Eateries</th>\n",
       "      <th>Playground</th>\n",
       "      <th>Tennis</th>\n",
       "      <th>skate</th>\n",
       "      <th>parknum</th>\n",
       "      <th>geometry</th>\n",
       "    </tr>\n",
       "  </thead>\n",
       "  <tbody>\n",
       "    <tr>\n",
       "      <th>0</th>\n",
       "      <td>B001</td>\n",
       "      <td>0</td>\n",
       "      <td>1</td>\n",
       "      <td>0</td>\n",
       "      <td>0</td>\n",
       "      <td>1</td>\n",
       "      <td>0</td>\n",
       "      <td>0</td>\n",
       "      <td>B001</td>\n",
       "      <td>POLYGON ((-73.95819910692008 40.72846909429816...</td>\n",
       "    </tr>\n",
       "    <tr>\n",
       "      <th>1</th>\n",
       "      <td>B007</td>\n",
       "      <td>0</td>\n",
       "      <td>1</td>\n",
       "      <td>0</td>\n",
       "      <td>0</td>\n",
       "      <td>1</td>\n",
       "      <td>1</td>\n",
       "      <td>0</td>\n",
       "      <td>B007</td>\n",
       "      <td>(POLYGON ((-74.00191712205063 40.5944044883299...</td>\n",
       "    </tr>\n",
       "    <tr>\n",
       "      <th>2</th>\n",
       "      <td>B008</td>\n",
       "      <td>0</td>\n",
       "      <td>1</td>\n",
       "      <td>0</td>\n",
       "      <td>0</td>\n",
       "      <td>1</td>\n",
       "      <td>0</td>\n",
       "      <td>0</td>\n",
       "      <td>B008</td>\n",
       "      <td>(POLYGON ((-73.91136560837775 40.6638884536345...</td>\n",
       "    </tr>\n",
       "    <tr>\n",
       "      <th>3</th>\n",
       "      <td>B012</td>\n",
       "      <td>0</td>\n",
       "      <td>1</td>\n",
       "      <td>1</td>\n",
       "      <td>0</td>\n",
       "      <td>2</td>\n",
       "      <td>0</td>\n",
       "      <td>0</td>\n",
       "      <td>B012</td>\n",
       "      <td>POLYGON ((-73.94195616711707 40.67311713865221...</td>\n",
       "    </tr>\n",
       "    <tr>\n",
       "      <th>4</th>\n",
       "      <td>B016</td>\n",
       "      <td>0</td>\n",
       "      <td>1</td>\n",
       "      <td>0</td>\n",
       "      <td>1</td>\n",
       "      <td>2</td>\n",
       "      <td>0</td>\n",
       "      <td>0</td>\n",
       "      <td>B016</td>\n",
       "      <td>POLYGON ((-73.92396891415979 40.70211749600103...</td>\n",
       "    </tr>\n",
       "  </tbody>\n",
       "</table>\n",
       "</div>"
      ],
      "text/plain": [
       "facility Prop_ID  Barbecue  Basketball  Dogfriend  Eateries  Playground  \\\n",
       "0           B001         0           1          0         0           1   \n",
       "1           B007         0           1          0         0           1   \n",
       "2           B008         0           1          0         0           1   \n",
       "3           B012         0           1          1         0           2   \n",
       "4           B016         0           1          0         1           2   \n",
       "\n",
       "facility  Tennis  skate parknum  \\\n",
       "0              0      0    B001   \n",
       "1              1      0    B007   \n",
       "2              0      0    B008   \n",
       "3              0      0    B012   \n",
       "4              0      0    B016   \n",
       "\n",
       "facility                                           geometry  \n",
       "0         POLYGON ((-73.95819910692008 40.72846909429816...  \n",
       "1         (POLYGON ((-74.00191712205063 40.5944044883299...  \n",
       "2         (POLYGON ((-73.91136560837775 40.6638884536345...  \n",
       "3         POLYGON ((-73.94195616711707 40.67311713865221...  \n",
       "4         POLYGON ((-73.92396891415979 40.70211749600103...  "
      ]
     },
     "execution_count": 208,
     "metadata": {},
     "output_type": "execute_result"
    }
   ],
   "source": [
    "facilitygs.head()"
   ]
  },
  {
   "cell_type": "code",
   "execution_count": 209,
   "metadata": {},
   "outputs": [],
   "source": [
    "facilitygs['area'] = facilitygs['geometry'].apply(lambda x: (x.area * 111**2))"
   ]
  },
  {
   "cell_type": "code",
   "execution_count": 90,
   "metadata": {},
   "outputs": [],
   "source": [
    "parkzone=gpd.GeoDataFrame(pz[['gispropnum','geometry']])"
   ]
  },
  {
   "cell_type": "code",
   "execution_count": 92,
   "metadata": {},
   "outputs": [],
   "source": [
    "parkzone = parkzone.dissolve(by='gispropnum')"
   ]
  },
  {
   "cell_type": "code",
   "execution_count": 107,
   "metadata": {},
   "outputs": [],
   "source": [
    "parkzone=parkzone.reset_index()"
   ]
  },
  {
   "cell_type": "code",
   "execution_count": 108,
   "metadata": {},
   "outputs": [],
   "source": [
    "facilitypz=facility.merge(parkzone,left_on='Prop_ID',right_on=\"gispropnum\")"
   ]
  },
  {
   "cell_type": "code",
   "execution_count": 111,
   "metadata": {},
   "outputs": [],
   "source": [
    "facilitypz['area'] = facilitypz['geometry'].apply(lambda x: (x.area * 111**2))"
   ]
  },
  {
   "cell_type": "code",
   "execution_count": 113,
   "metadata": {},
   "outputs": [
    {
     "data": {
      "text/html": [
       "<div>\n",
       "<table border=\"1\" class=\"dataframe\">\n",
       "  <thead>\n",
       "    <tr style=\"text-align: right;\">\n",
       "      <th>facility</th>\n",
       "      <th>Prop_ID</th>\n",
       "      <th>Barbecue</th>\n",
       "      <th>Basketball</th>\n",
       "      <th>Dogfriend</th>\n",
       "      <th>Eateries</th>\n",
       "      <th>Playground</th>\n",
       "      <th>Tennis</th>\n",
       "      <th>skate</th>\n",
       "      <th>gispropnum</th>\n",
       "      <th>geometry</th>\n",
       "      <th>area</th>\n",
       "    </tr>\n",
       "  </thead>\n",
       "  <tbody>\n",
       "    <tr>\n",
       "      <th>0</th>\n",
       "      <td>B018</td>\n",
       "      <td>0</td>\n",
       "      <td>1</td>\n",
       "      <td>1</td>\n",
       "      <td>0</td>\n",
       "      <td>1</td>\n",
       "      <td>0</td>\n",
       "      <td>0</td>\n",
       "      <td>B018</td>\n",
       "      <td>(POLYGON ((-73.8804756741291 40.63571240115446...</td>\n",
       "      <td>0.796912</td>\n",
       "    </tr>\n",
       "    <tr>\n",
       "      <th>1</th>\n",
       "      <td>B028</td>\n",
       "      <td>0</td>\n",
       "      <td>1</td>\n",
       "      <td>2</td>\n",
       "      <td>0</td>\n",
       "      <td>2</td>\n",
       "      <td>1</td>\n",
       "      <td>0</td>\n",
       "      <td>B028</td>\n",
       "      <td>(POLYGON ((-74.01842481974427 40.6067978207152...</td>\n",
       "      <td>0.243400</td>\n",
       "    </tr>\n",
       "    <tr>\n",
       "      <th>2</th>\n",
       "      <td>B032</td>\n",
       "      <td>1</td>\n",
       "      <td>1</td>\n",
       "      <td>1</td>\n",
       "      <td>0</td>\n",
       "      <td>2</td>\n",
       "      <td>1</td>\n",
       "      <td>0</td>\n",
       "      <td>B032</td>\n",
       "      <td>POLYGON ((-73.97359974922539 40.69171771933037...</td>\n",
       "      <td>0.165564</td>\n",
       "    </tr>\n",
       "    <tr>\n",
       "      <th>3</th>\n",
       "      <td>B054</td>\n",
       "      <td>0</td>\n",
       "      <td>1</td>\n",
       "      <td>1</td>\n",
       "      <td>0</td>\n",
       "      <td>1</td>\n",
       "      <td>1</td>\n",
       "      <td>0</td>\n",
       "      <td>B054</td>\n",
       "      <td>(POLYGON ((-73.92493161992556 40.6674028146497...</td>\n",
       "      <td>0.112753</td>\n",
       "    </tr>\n",
       "    <tr>\n",
       "      <th>4</th>\n",
       "      <td>B057</td>\n",
       "      <td>0</td>\n",
       "      <td>2</td>\n",
       "      <td>1</td>\n",
       "      <td>1</td>\n",
       "      <td>4</td>\n",
       "      <td>1</td>\n",
       "      <td>0</td>\n",
       "      <td>B057</td>\n",
       "      <td>(POLYGON ((-73.92431008321688 40.5922243351517...</td>\n",
       "      <td>0.927570</td>\n",
       "    </tr>\n",
       "  </tbody>\n",
       "</table>\n",
       "</div>"
      ],
      "text/plain": [
       "facility Prop_ID  Barbecue  Basketball  Dogfriend  Eateries  Playground  \\\n",
       "0           B018         0           1          1         0           1   \n",
       "1           B028         0           1          2         0           2   \n",
       "2           B032         1           1          1         0           2   \n",
       "3           B054         0           1          1         0           1   \n",
       "4           B057         0           2          1         1           4   \n",
       "\n",
       "facility  Tennis  skate gispropnum  \\\n",
       "0              0      0       B018   \n",
       "1              1      0       B028   \n",
       "2              1      0       B032   \n",
       "3              1      0       B054   \n",
       "4              1      0       B057   \n",
       "\n",
       "facility                                           geometry      area  \n",
       "0         (POLYGON ((-73.8804756741291 40.63571240115446...  0.796912  \n",
       "1         (POLYGON ((-74.01842481974427 40.6067978207152...  0.243400  \n",
       "2         POLYGON ((-73.97359974922539 40.69171771933037...  0.165564  \n",
       "3         (POLYGON ((-73.92493161992556 40.6674028146497...  0.112753  \n",
       "4         (POLYGON ((-73.92431008321688 40.5922243351517...  0.927570  "
      ]
     },
     "execution_count": 113,
     "metadata": {},
     "output_type": "execute_result"
    }
   ],
   "source": [
    "facilitypz.head()"
   ]
  },
  {
   "cell_type": "code",
   "execution_count": 147,
   "metadata": {},
   "outputs": [],
   "source": [
    "parkname=pz[['gispropnum','propname']]\n",
    "parkname=parkname.drop_duplicates()"
   ]
  },
  {
   "cell_type": "code",
   "execution_count": 210,
   "metadata": {},
   "outputs": [],
   "source": [
    "greenname=gs[['parknum','park_name']]\n",
    "greenname=greenname.drop_duplicates()"
   ]
  },
  {
   "cell_type": "code",
   "execution_count": 152,
   "metadata": {},
   "outputs": [
    {
     "data": {
      "text/html": [
       "<div>\n",
       "<table border=\"1\" class=\"dataframe\">\n",
       "  <thead>\n",
       "    <tr style=\"text-align: right;\">\n",
       "      <th></th>\n",
       "      <th>gispropnum</th>\n",
       "      <th>propname</th>\n",
       "    </tr>\n",
       "  </thead>\n",
       "  <tbody>\n",
       "    <tr>\n",
       "      <th>6</th>\n",
       "      <td>M071</td>\n",
       "      <td>Riverside Park</td>\n",
       "    </tr>\n",
       "    <tr>\n",
       "      <th>41</th>\n",
       "      <td>M048</td>\n",
       "      <td>Riverside Park</td>\n",
       "    </tr>\n",
       "    <tr>\n",
       "      <th>114</th>\n",
       "      <td>M140</td>\n",
       "      <td>Riverside Park</td>\n",
       "    </tr>\n",
       "    <tr>\n",
       "      <th>136</th>\n",
       "      <td>M072</td>\n",
       "      <td>Riverside Park</td>\n",
       "    </tr>\n",
       "  </tbody>\n",
       "</table>\n",
       "</div>"
      ],
      "text/plain": [
       "    gispropnum        propname\n",
       "6         M071  Riverside Park\n",
       "41        M048  Riverside Park\n",
       "114       M140  Riverside Park\n",
       "136       M072  Riverside Park"
      ]
     },
     "execution_count": 152,
     "metadata": {},
     "output_type": "execute_result"
    }
   ],
   "source": [
    "parkname.loc[parkname.propname == 'Riverside Park']"
   ]
  },
  {
   "cell_type": "code",
   "execution_count": 134,
   "metadata": {},
   "outputs": [
    {
     "data": {
      "text/html": [
       "<div>\n",
       "<table border=\"1\" class=\"dataframe\">\n",
       "  <thead>\n",
       "    <tr style=\"text-align: right;\">\n",
       "      <th>facility</th>\n",
       "      <th>Prop_ID</th>\n",
       "      <th>Barbecue</th>\n",
       "      <th>Basketball</th>\n",
       "      <th>Dogfriend</th>\n",
       "      <th>Eateries</th>\n",
       "      <th>Playground</th>\n",
       "      <th>Tennis</th>\n",
       "      <th>skate</th>\n",
       "      <th>gispropnum</th>\n",
       "      <th>geometry</th>\n",
       "      <th>area</th>\n",
       "    </tr>\n",
       "  </thead>\n",
       "  <tbody>\n",
       "    <tr>\n",
       "      <th>0</th>\n",
       "      <td>B018</td>\n",
       "      <td>0</td>\n",
       "      <td>1</td>\n",
       "      <td>1</td>\n",
       "      <td>0</td>\n",
       "      <td>1</td>\n",
       "      <td>0</td>\n",
       "      <td>0</td>\n",
       "      <td>B018</td>\n",
       "      <td>(POLYGON ((-73.8804756741291 40.63571240115446...</td>\n",
       "      <td>0.796912</td>\n",
       "    </tr>\n",
       "    <tr>\n",
       "      <th>1</th>\n",
       "      <td>B028</td>\n",
       "      <td>0</td>\n",
       "      <td>1</td>\n",
       "      <td>2</td>\n",
       "      <td>0</td>\n",
       "      <td>2</td>\n",
       "      <td>1</td>\n",
       "      <td>0</td>\n",
       "      <td>B028</td>\n",
       "      <td>(POLYGON ((-74.01842481974427 40.6067978207152...</td>\n",
       "      <td>0.243400</td>\n",
       "    </tr>\n",
       "    <tr>\n",
       "      <th>2</th>\n",
       "      <td>B032</td>\n",
       "      <td>1</td>\n",
       "      <td>1</td>\n",
       "      <td>1</td>\n",
       "      <td>0</td>\n",
       "      <td>2</td>\n",
       "      <td>1</td>\n",
       "      <td>0</td>\n",
       "      <td>B032</td>\n",
       "      <td>POLYGON ((-73.97359974922539 40.69171771933037...</td>\n",
       "      <td>0.165564</td>\n",
       "    </tr>\n",
       "    <tr>\n",
       "      <th>3</th>\n",
       "      <td>B054</td>\n",
       "      <td>0</td>\n",
       "      <td>1</td>\n",
       "      <td>1</td>\n",
       "      <td>0</td>\n",
       "      <td>1</td>\n",
       "      <td>1</td>\n",
       "      <td>0</td>\n",
       "      <td>B054</td>\n",
       "      <td>(POLYGON ((-73.92493161992556 40.6674028146497...</td>\n",
       "      <td>0.112753</td>\n",
       "    </tr>\n",
       "    <tr>\n",
       "      <th>4</th>\n",
       "      <td>B057</td>\n",
       "      <td>0</td>\n",
       "      <td>2</td>\n",
       "      <td>1</td>\n",
       "      <td>1</td>\n",
       "      <td>4</td>\n",
       "      <td>1</td>\n",
       "      <td>0</td>\n",
       "      <td>B057</td>\n",
       "      <td>(POLYGON ((-73.92431008321688 40.5922243351517...</td>\n",
       "      <td>0.927570</td>\n",
       "    </tr>\n",
       "  </tbody>\n",
       "</table>\n",
       "</div>"
      ],
      "text/plain": [
       "facility Prop_ID  Barbecue  Basketball  Dogfriend  Eateries  Playground  \\\n",
       "0           B018         0           1          1         0           1   \n",
       "1           B028         0           1          2         0           2   \n",
       "2           B032         1           1          1         0           2   \n",
       "3           B054         0           1          1         0           1   \n",
       "4           B057         0           2          1         1           4   \n",
       "\n",
       "facility  Tennis  skate gispropnum  \\\n",
       "0              0      0       B018   \n",
       "1              1      0       B028   \n",
       "2              1      0       B032   \n",
       "3              1      0       B054   \n",
       "4              1      0       B057   \n",
       "\n",
       "facility                                           geometry      area  \n",
       "0         (POLYGON ((-73.8804756741291 40.63571240115446...  0.796912  \n",
       "1         (POLYGON ((-74.01842481974427 40.6067978207152...  0.243400  \n",
       "2         POLYGON ((-73.97359974922539 40.69171771933037...  0.165564  \n",
       "3         (POLYGON ((-73.92493161992556 40.6674028146497...  0.112753  \n",
       "4         (POLYGON ((-73.92431008321688 40.5922243351517...  0.927570  "
      ]
     },
     "execution_count": 134,
     "metadata": {},
     "output_type": "execute_result"
    }
   ],
   "source": [
    "facilitypz.head()"
   ]
  },
  {
   "cell_type": "code",
   "execution_count": 211,
   "metadata": {},
   "outputs": [],
   "source": [
    "gsfacility=facilitygs.merge(greenname,on=\"parknum\",how=\"inner\")"
   ]
  },
  {
   "cell_type": "code",
   "execution_count": 212,
   "metadata": {},
   "outputs": [
    {
     "data": {
      "text/html": [
       "<div>\n",
       "<table border=\"1\" class=\"dataframe\">\n",
       "  <thead>\n",
       "    <tr style=\"text-align: right;\">\n",
       "      <th>facility</th>\n",
       "      <th>Prop_ID</th>\n",
       "      <th>Barbecue</th>\n",
       "      <th>Basketball</th>\n",
       "      <th>Dogfriend</th>\n",
       "      <th>Eateries</th>\n",
       "      <th>Playground</th>\n",
       "      <th>Tennis</th>\n",
       "      <th>skate</th>\n",
       "      <th>parknum</th>\n",
       "      <th>geometry</th>\n",
       "      <th>area</th>\n",
       "      <th>park_name</th>\n",
       "    </tr>\n",
       "  </thead>\n",
       "  <tbody>\n",
       "    <tr>\n",
       "      <th>0</th>\n",
       "      <td>B001</td>\n",
       "      <td>0</td>\n",
       "      <td>1</td>\n",
       "      <td>0</td>\n",
       "      <td>0</td>\n",
       "      <td>1</td>\n",
       "      <td>0</td>\n",
       "      <td>0</td>\n",
       "      <td>B001</td>\n",
       "      <td>POLYGON ((-73.95819910692008 40.72846909429816...</td>\n",
       "      <td>0.004740</td>\n",
       "      <td>American Playground</td>\n",
       "    </tr>\n",
       "    <tr>\n",
       "      <th>1</th>\n",
       "      <td>B007</td>\n",
       "      <td>0</td>\n",
       "      <td>1</td>\n",
       "      <td>0</td>\n",
       "      <td>0</td>\n",
       "      <td>1</td>\n",
       "      <td>1</td>\n",
       "      <td>0</td>\n",
       "      <td>B007</td>\n",
       "      <td>(POLYGON ((-74.00191712205063 40.5944044883299...</td>\n",
       "      <td>0.091409</td>\n",
       "      <td>Bensonhurst Park</td>\n",
       "    </tr>\n",
       "    <tr>\n",
       "      <th>2</th>\n",
       "      <td>B008</td>\n",
       "      <td>0</td>\n",
       "      <td>1</td>\n",
       "      <td>0</td>\n",
       "      <td>0</td>\n",
       "      <td>1</td>\n",
       "      <td>0</td>\n",
       "      <td>0</td>\n",
       "      <td>B008</td>\n",
       "      <td>(POLYGON ((-73.91136560837775 40.6638884536345...</td>\n",
       "      <td>0.057211</td>\n",
       "      <td>Betsy Head Park</td>\n",
       "    </tr>\n",
       "    <tr>\n",
       "      <th>3</th>\n",
       "      <td>B008</td>\n",
       "      <td>0</td>\n",
       "      <td>1</td>\n",
       "      <td>0</td>\n",
       "      <td>0</td>\n",
       "      <td>1</td>\n",
       "      <td>0</td>\n",
       "      <td>0</td>\n",
       "      <td>B008</td>\n",
       "      <td>(POLYGON ((-73.91136560837775 40.6638884536345...</td>\n",
       "      <td>0.057211</td>\n",
       "      <td>Betsy Head</td>\n",
       "    </tr>\n",
       "    <tr>\n",
       "      <th>4</th>\n",
       "      <td>B008</td>\n",
       "      <td>0</td>\n",
       "      <td>1</td>\n",
       "      <td>0</td>\n",
       "      <td>0</td>\n",
       "      <td>1</td>\n",
       "      <td>0</td>\n",
       "      <td>0</td>\n",
       "      <td>B008</td>\n",
       "      <td>(POLYGON ((-73.91136560837775 40.6638884536345...</td>\n",
       "      <td>0.057211</td>\n",
       "      <td>Greenstreet</td>\n",
       "    </tr>\n",
       "  </tbody>\n",
       "</table>\n",
       "</div>"
      ],
      "text/plain": [
       "facility Prop_ID  Barbecue  Basketball  Dogfriend  Eateries  Playground  \\\n",
       "0           B001         0           1          0         0           1   \n",
       "1           B007         0           1          0         0           1   \n",
       "2           B008         0           1          0         0           1   \n",
       "3           B008         0           1          0         0           1   \n",
       "4           B008         0           1          0         0           1   \n",
       "\n",
       "facility  Tennis  skate parknum  \\\n",
       "0              0      0    B001   \n",
       "1              1      0    B007   \n",
       "2              0      0    B008   \n",
       "3              0      0    B008   \n",
       "4              0      0    B008   \n",
       "\n",
       "facility                                           geometry      area  \\\n",
       "0         POLYGON ((-73.95819910692008 40.72846909429816...  0.004740   \n",
       "1         (POLYGON ((-74.00191712205063 40.5944044883299...  0.091409   \n",
       "2         (POLYGON ((-73.91136560837775 40.6638884536345...  0.057211   \n",
       "3         (POLYGON ((-73.91136560837775 40.6638884536345...  0.057211   \n",
       "4         (POLYGON ((-73.91136560837775 40.6638884536345...  0.057211   \n",
       "\n",
       "facility            park_name  \n",
       "0         American Playground  \n",
       "1            Bensonhurst Park  \n",
       "2             Betsy Head Park  \n",
       "3                  Betsy Head  \n",
       "4                 Greenstreet  "
      ]
     },
     "execution_count": 212,
     "metadata": {},
     "output_type": "execute_result"
    }
   ],
   "source": [
    "gsfacility.head()"
   ]
  },
  {
   "cell_type": "code",
   "execution_count": 162,
   "metadata": {},
   "outputs": [],
   "source": [
    "facility=facilitypz.merge(parkname,on=\"gispropnum\",how=\"inner\")"
   ]
  },
  {
   "cell_type": "code",
   "execution_count": 163,
   "metadata": {},
   "outputs": [
    {
     "data": {
      "text/html": [
       "<div>\n",
       "<table border=\"1\" class=\"dataframe\">\n",
       "  <thead>\n",
       "    <tr style=\"text-align: right;\">\n",
       "      <th>facility</th>\n",
       "      <th>Prop_ID</th>\n",
       "      <th>Barbecue</th>\n",
       "      <th>Basketball</th>\n",
       "      <th>Dogfriend</th>\n",
       "      <th>Eateries</th>\n",
       "      <th>Playground</th>\n",
       "      <th>Tennis</th>\n",
       "      <th>skate</th>\n",
       "      <th>gispropnum</th>\n",
       "      <th>geometry</th>\n",
       "      <th>area</th>\n",
       "      <th>propname</th>\n",
       "    </tr>\n",
       "  </thead>\n",
       "  <tbody>\n",
       "    <tr>\n",
       "      <th>0</th>\n",
       "      <td>B018</td>\n",
       "      <td>0</td>\n",
       "      <td>1</td>\n",
       "      <td>1</td>\n",
       "      <td>0</td>\n",
       "      <td>1</td>\n",
       "      <td>0</td>\n",
       "      <td>0</td>\n",
       "      <td>B018</td>\n",
       "      <td>(POLYGON ((-73.8804756741291 40.63571240115446...</td>\n",
       "      <td>0.796912</td>\n",
       "      <td>Canarsie Park</td>\n",
       "    </tr>\n",
       "    <tr>\n",
       "      <th>1</th>\n",
       "      <td>B028</td>\n",
       "      <td>0</td>\n",
       "      <td>1</td>\n",
       "      <td>2</td>\n",
       "      <td>0</td>\n",
       "      <td>2</td>\n",
       "      <td>1</td>\n",
       "      <td>0</td>\n",
       "      <td>B028</td>\n",
       "      <td>(POLYGON ((-74.01842481974427 40.6067978207152...</td>\n",
       "      <td>0.243400</td>\n",
       "      <td>Dyker Beach Park</td>\n",
       "    </tr>\n",
       "    <tr>\n",
       "      <th>2</th>\n",
       "      <td>B032</td>\n",
       "      <td>1</td>\n",
       "      <td>1</td>\n",
       "      <td>1</td>\n",
       "      <td>0</td>\n",
       "      <td>2</td>\n",
       "      <td>1</td>\n",
       "      <td>0</td>\n",
       "      <td>B032</td>\n",
       "      <td>POLYGON ((-73.97359974922539 40.69171771933037...</td>\n",
       "      <td>0.165564</td>\n",
       "      <td>Fort Greene Park</td>\n",
       "    </tr>\n",
       "    <tr>\n",
       "      <th>3</th>\n",
       "      <td>B054</td>\n",
       "      <td>0</td>\n",
       "      <td>1</td>\n",
       "      <td>1</td>\n",
       "      <td>0</td>\n",
       "      <td>1</td>\n",
       "      <td>1</td>\n",
       "      <td>0</td>\n",
       "      <td>B054</td>\n",
       "      <td>(POLYGON ((-73.92493161992556 40.6674028146497...</td>\n",
       "      <td>0.112753</td>\n",
       "      <td>Lincoln Terrace Park / Arthur S. Somers</td>\n",
       "    </tr>\n",
       "    <tr>\n",
       "      <th>4</th>\n",
       "      <td>B057</td>\n",
       "      <td>0</td>\n",
       "      <td>2</td>\n",
       "      <td>1</td>\n",
       "      <td>1</td>\n",
       "      <td>4</td>\n",
       "      <td>1</td>\n",
       "      <td>0</td>\n",
       "      <td>B057</td>\n",
       "      <td>(POLYGON ((-73.92431008321688 40.5922243351517...</td>\n",
       "      <td>0.927570</td>\n",
       "      <td>Marine Park</td>\n",
       "    </tr>\n",
       "  </tbody>\n",
       "</table>\n",
       "</div>"
      ],
      "text/plain": [
       "facility Prop_ID  Barbecue  Basketball  Dogfriend  Eateries  Playground  \\\n",
       "0           B018         0           1          1         0           1   \n",
       "1           B028         0           1          2         0           2   \n",
       "2           B032         1           1          1         0           2   \n",
       "3           B054         0           1          1         0           1   \n",
       "4           B057         0           2          1         1           4   \n",
       "\n",
       "facility  Tennis  skate gispropnum  \\\n",
       "0              0      0       B018   \n",
       "1              1      0       B028   \n",
       "2              1      0       B032   \n",
       "3              1      0       B054   \n",
       "4              1      0       B057   \n",
       "\n",
       "facility                                           geometry      area  \\\n",
       "0         (POLYGON ((-73.8804756741291 40.63571240115446...  0.796912   \n",
       "1         (POLYGON ((-74.01842481974427 40.6067978207152...  0.243400   \n",
       "2         POLYGON ((-73.97359974922539 40.69171771933037...  0.165564   \n",
       "3         (POLYGON ((-73.92493161992556 40.6674028146497...  0.112753   \n",
       "4         (POLYGON ((-73.92431008321688 40.5922243351517...  0.927570   \n",
       "\n",
       "facility                                 propname  \n",
       "0                                   Canarsie Park  \n",
       "1                                Dyker Beach Park  \n",
       "2                                Fort Greene Park  \n",
       "3         Lincoln Terrace Park / Arthur S. Somers  \n",
       "4                                     Marine Park  "
      ]
     },
     "execution_count": 163,
     "metadata": {},
     "output_type": "execute_result"
    }
   ],
   "source": [
    "facility.head()"
   ]
  },
  {
   "cell_type": "code",
   "execution_count": 213,
   "metadata": {},
   "outputs": [],
   "source": [
    "gsfacility=gpd.GeoDataFrame(gsfacility)"
   ]
  },
  {
   "cell_type": "code",
   "execution_count": 178,
   "metadata": {},
   "outputs": [],
   "source": [
    "facility=gpd.GeoDataFrame(facility)"
   ]
  },
  {
   "cell_type": "code",
   "execution_count": 216,
   "metadata": {},
   "outputs": [],
   "source": [
    "gsfacility.to_file(driver = 'ESRI Shapefile', filename='green_facility')"
   ]
  },
  {
   "cell_type": "code",
   "execution_count": 170,
   "metadata": {},
   "outputs": [],
   "source": [
    "facility.to_file(driver = 'ESRI Shapefile', filename='park_facility')"
   ]
  },
  {
   "cell_type": "code",
   "execution_count": 171,
   "metadata": {},
   "outputs": [
    {
     "name": "stdout",
     "output_type": "stream",
     "text": [
      "Usage: choroplathNYC <path to shapefile> <column>\n",
      "\n",
      "Options:\n",
      "  -h, --help            show this help message and exit\n",
      "  -d, --discrete        discrete steps color bar\n",
      "  -m CMAP, --cmap=CMAP  matplotlib colormap name\n",
      "  -t TITLE, --title=TITLE\n",
      "                        title of figure\n",
      "  -o OUTPUT, --output=OUTPUT\n",
      "                        output file  (must be pylab compatible extension, e.g.\n",
      "                        pdf png etc\n",
      "  --clobber             clobber output file\n",
      "  --noshow              do not show figure (default)\n",
      "  --debug               print debug statements\n"
     ]
    }
   ],
   "source": [
    "%run ~/choroplethNYC.py"
   ]
  },
  {
   "cell_type": "code",
   "execution_count": 166,
   "metadata": {},
   "outputs": [
    {
     "data": {
      "text/plain": [
       "<matplotlib.axes._subplots.AxesSubplot at 0x7f2731775780>"
      ]
     },
     "execution_count": 166,
     "metadata": {},
     "output_type": "execute_result"
    },
    {
     "data": {
      "image/png": "[encoded data removed]",
      "text/plain": [
       "<matplotlib.figure.Figure at 0x7f2731772a90>"
      ]
     },
     "metadata": {},
     "output_type": "display_data"
    }
   ],
   "source": [
    "facility.plot()"
   ]
  },
  {
   "cell_type": "code",
   "execution_count": 187,
   "metadata": {},
   "outputs": [
    {
     "ename": "TypeError",
     "evalue": "float() argument must be a string or a number, not 'Point'",
     "output_type": "error",
     "traceback": [
      "\u001b[0;31m---------------------------------------------------------------------------\u001b[0m",
      "\u001b[0;31mTypeError\u001b[0m                                 Traceback (most recent call last)",
      "\u001b[0;32m<ipython-input-187-ac423e24244e>\u001b[0m in \u001b[0;36m<module>\u001b[0;34m()\u001b[0m\n\u001b[0;32m----> 1\u001b[0;31m \u001b[0mplot\u001b[0m\u001b[0;34m(\u001b[0m\u001b[0mfacility\u001b[0m\u001b[0;34m[\u001b[0m\u001b[0;34m'Center'\u001b[0m\u001b[0;34m]\u001b[0m\u001b[0;34m)\u001b[0m\u001b[0;34m\u001b[0m\u001b[0m\n\u001b[0m",
      "\u001b[0;32m/usr/local/Anaconda3-5.0.0-Linux-x86_64/envs/PUI2016_Python3/lib/python3.5/site-packages/matplotlib/pyplot.py\u001b[0m in \u001b[0;36mplot\u001b[0;34m(*args, **kwargs)\u001b[0m\n\u001b[1;32m   3238\u001b[0m                       mplDeprecation)\n\u001b[1;32m   3239\u001b[0m     \u001b[0;32mtry\u001b[0m\u001b[0;34m:\u001b[0m\u001b[0;34m\u001b[0m\u001b[0m\n\u001b[0;32m-> 3240\u001b[0;31m         \u001b[0mret\u001b[0m \u001b[0;34m=\u001b[0m \u001b[0max\u001b[0m\u001b[0;34m.\u001b[0m\u001b[0mplot\u001b[0m\u001b[0;34m(\u001b[0m\u001b[0;34m*\u001b[0m\u001b[0margs\u001b[0m\u001b[0;34m,\u001b[0m \u001b[0;34m**\u001b[0m\u001b[0mkwargs\u001b[0m\u001b[0;34m)\u001b[0m\u001b[0;34m\u001b[0m\u001b[0m\n\u001b[0m\u001b[1;32m   3241\u001b[0m     \u001b[0;32mfinally\u001b[0m\u001b[0;34m:\u001b[0m\u001b[0;34m\u001b[0m\u001b[0m\n\u001b[1;32m   3242\u001b[0m         \u001b[0max\u001b[0m\u001b[0;34m.\u001b[0m\u001b[0m_hold\u001b[0m \u001b[0;34m=\u001b[0m \u001b[0mwashold\u001b[0m\u001b[0;34m\u001b[0m\u001b[0m\n",
      "\u001b[0;32m/usr/local/Anaconda3-5.0.0-Linux-x86_64/envs/PUI2016_Python3/lib/python3.5/site-packages/matplotlib/__init__.py\u001b[0m in \u001b[0;36minner\u001b[0;34m(ax, *args, **kwargs)\u001b[0m\n\u001b[1;32m   1708\u001b[0m                     warnings.warn(msg % (label_namer, func.__name__),\n\u001b[1;32m   1709\u001b[0m                                   RuntimeWarning, stacklevel=2)\n\u001b[0;32m-> 1710\u001b[0;31m             \u001b[0;32mreturn\u001b[0m \u001b[0mfunc\u001b[0m\u001b[0;34m(\u001b[0m\u001b[0max\u001b[0m\u001b[0;34m,\u001b[0m \u001b[0;34m*\u001b[0m\u001b[0margs\u001b[0m\u001b[0;34m,\u001b[0m \u001b[0;34m**\u001b[0m\u001b[0mkwargs\u001b[0m\u001b[0;34m)\u001b[0m\u001b[0;34m\u001b[0m\u001b[0m\n\u001b[0m\u001b[1;32m   1711\u001b[0m         \u001b[0mpre_doc\u001b[0m \u001b[0;34m=\u001b[0m \u001b[0minner\u001b[0m\u001b[0;34m.\u001b[0m\u001b[0m__doc__\u001b[0m\u001b[0;34m\u001b[0m\u001b[0m\n\u001b[1;32m   1712\u001b[0m         \u001b[0;32mif\u001b[0m \u001b[0mpre_doc\u001b[0m \u001b[0;32mis\u001b[0m \u001b[0;32mNone\u001b[0m\u001b[0;34m:\u001b[0m\u001b[0;34m\u001b[0m\u001b[0m\n",
      "\u001b[0;32m/usr/local/Anaconda3-5.0.0-Linux-x86_64/envs/PUI2016_Python3/lib/python3.5/site-packages/matplotlib/axes/_axes.py\u001b[0m in \u001b[0;36mplot\u001b[0;34m(self, *args, **kwargs)\u001b[0m\n\u001b[1;32m   1436\u001b[0m \u001b[0;34m\u001b[0m\u001b[0m\n\u001b[1;32m   1437\u001b[0m         \u001b[0;32mfor\u001b[0m \u001b[0mline\u001b[0m \u001b[0;32min\u001b[0m \u001b[0mself\u001b[0m\u001b[0;34m.\u001b[0m\u001b[0m_get_lines\u001b[0m\u001b[0;34m(\u001b[0m\u001b[0;34m*\u001b[0m\u001b[0margs\u001b[0m\u001b[0;34m,\u001b[0m \u001b[0;34m**\u001b[0m\u001b[0mkwargs\u001b[0m\u001b[0;34m)\u001b[0m\u001b[0;34m:\u001b[0m\u001b[0;34m\u001b[0m\u001b[0m\n\u001b[0;32m-> 1438\u001b[0;31m             \u001b[0mself\u001b[0m\u001b[0;34m.\u001b[0m\u001b[0madd_line\u001b[0m\u001b[0;34m(\u001b[0m\u001b[0mline\u001b[0m\u001b[0;34m)\u001b[0m\u001b[0;34m\u001b[0m\u001b[0m\n\u001b[0m\u001b[1;32m   1439\u001b[0m             \u001b[0mlines\u001b[0m\u001b[0;34m.\u001b[0m\u001b[0mappend\u001b[0m\u001b[0;34m(\u001b[0m\u001b[0mline\u001b[0m\u001b[0;34m)\u001b[0m\u001b[0;34m\u001b[0m\u001b[0m\n\u001b[1;32m   1440\u001b[0m \u001b[0;34m\u001b[0m\u001b[0m\n",
      "\u001b[0;32m/usr/local/Anaconda3-5.0.0-Linux-x86_64/envs/PUI2016_Python3/lib/python3.5/site-packages/matplotlib/axes/_base.py\u001b[0m in \u001b[0;36madd_line\u001b[0;34m(self, line)\u001b[0m\n\u001b[1;32m   1757\u001b[0m             \u001b[0mline\u001b[0m\u001b[0;34m.\u001b[0m\u001b[0mset_clip_path\u001b[0m\u001b[0;34m(\u001b[0m\u001b[0mself\u001b[0m\u001b[0;34m.\u001b[0m\u001b[0mpatch\u001b[0m\u001b[0;34m)\u001b[0m\u001b[0;34m\u001b[0m\u001b[0m\n\u001b[1;32m   1758\u001b[0m \u001b[0;34m\u001b[0m\u001b[0m\n\u001b[0;32m-> 1759\u001b[0;31m         \u001b[0mself\u001b[0m\u001b[0;34m.\u001b[0m\u001b[0m_update_line_limits\u001b[0m\u001b[0;34m(\u001b[0m\u001b[0mline\u001b[0m\u001b[0;34m)\u001b[0m\u001b[0;34m\u001b[0m\u001b[0m\n\u001b[0m\u001b[1;32m   1760\u001b[0m         \u001b[0;32mif\u001b[0m \u001b[0;32mnot\u001b[0m \u001b[0mline\u001b[0m\u001b[0;34m.\u001b[0m\u001b[0mget_label\u001b[0m\u001b[0;34m(\u001b[0m\u001b[0;34m)\u001b[0m\u001b[0;34m:\u001b[0m\u001b[0;34m\u001b[0m\u001b[0m\n\u001b[1;32m   1761\u001b[0m             \u001b[0mline\u001b[0m\u001b[0;34m.\u001b[0m\u001b[0mset_label\u001b[0m\u001b[0;34m(\u001b[0m\u001b[0;34m'_line%d'\u001b[0m \u001b[0;34m%\u001b[0m \u001b[0mlen\u001b[0m\u001b[0;34m(\u001b[0m\u001b[0mself\u001b[0m\u001b[0;34m.\u001b[0m\u001b[0mlines\u001b[0m\u001b[0;34m)\u001b[0m\u001b[0;34m)\u001b[0m\u001b[0;34m\u001b[0m\u001b[0m\n",
      "\u001b[0;32m/usr/local/Anaconda3-5.0.0-Linux-x86_64/envs/PUI2016_Python3/lib/python3.5/site-packages/matplotlib/axes/_base.py\u001b[0m in \u001b[0;36m_update_line_limits\u001b[0;34m(self, line)\u001b[0m\n\u001b[1;32m   1779\u001b[0m         \u001b[0mFigures\u001b[0m \u001b[0mout\u001b[0m \u001b[0mthe\u001b[0m \u001b[0mdata\u001b[0m \u001b[0mlimit\u001b[0m \u001b[0mof\u001b[0m \u001b[0mthe\u001b[0m \u001b[0mgiven\u001b[0m \u001b[0mline\u001b[0m\u001b[0;34m,\u001b[0m \u001b[0mupdating\u001b[0m \u001b[0mself\u001b[0m\u001b[0;34m.\u001b[0m\u001b[0mdataLim\u001b[0m\u001b[0;34m.\u001b[0m\u001b[0;34m\u001b[0m\u001b[0m\n\u001b[1;32m   1780\u001b[0m         \"\"\"\n\u001b[0;32m-> 1781\u001b[0;31m         \u001b[0mpath\u001b[0m \u001b[0;34m=\u001b[0m \u001b[0mline\u001b[0m\u001b[0;34m.\u001b[0m\u001b[0mget_path\u001b[0m\u001b[0;34m(\u001b[0m\u001b[0;34m)\u001b[0m\u001b[0;34m\u001b[0m\u001b[0m\n\u001b[0m\u001b[1;32m   1782\u001b[0m         \u001b[0;32mif\u001b[0m \u001b[0mpath\u001b[0m\u001b[0;34m.\u001b[0m\u001b[0mvertices\u001b[0m\u001b[0;34m.\u001b[0m\u001b[0msize\u001b[0m \u001b[0;34m==\u001b[0m \u001b[0;36m0\u001b[0m\u001b[0;34m:\u001b[0m\u001b[0;34m\u001b[0m\u001b[0m\n\u001b[1;32m   1783\u001b[0m             \u001b[0;32mreturn\u001b[0m\u001b[0;34m\u001b[0m\u001b[0m\n",
      "\u001b[0;32m/usr/local/Anaconda3-5.0.0-Linux-x86_64/envs/PUI2016_Python3/lib/python3.5/site-packages/matplotlib/lines.py\u001b[0m in \u001b[0;36mget_path\u001b[0;34m(self)\u001b[0m\n\u001b[1;32m    949\u001b[0m         \"\"\"\n\u001b[1;32m    950\u001b[0m         \u001b[0;32mif\u001b[0m \u001b[0mself\u001b[0m\u001b[0;34m.\u001b[0m\u001b[0m_invalidy\u001b[0m \u001b[0;32mor\u001b[0m \u001b[0mself\u001b[0m\u001b[0;34m.\u001b[0m\u001b[0m_invalidx\u001b[0m\u001b[0;34m:\u001b[0m\u001b[0;34m\u001b[0m\u001b[0m\n\u001b[0;32m--> 951\u001b[0;31m             \u001b[0mself\u001b[0m\u001b[0;34m.\u001b[0m\u001b[0mrecache\u001b[0m\u001b[0;34m(\u001b[0m\u001b[0;34m)\u001b[0m\u001b[0;34m\u001b[0m\u001b[0m\n\u001b[0m\u001b[1;32m    952\u001b[0m         \u001b[0;32mreturn\u001b[0m \u001b[0mself\u001b[0m\u001b[0;34m.\u001b[0m\u001b[0m_path\u001b[0m\u001b[0;34m\u001b[0m\u001b[0m\n\u001b[1;32m    953\u001b[0m \u001b[0;34m\u001b[0m\u001b[0m\n",
      "\u001b[0;32m/usr/local/Anaconda3-5.0.0-Linux-x86_64/envs/PUI2016_Python3/lib/python3.5/site-packages/matplotlib/lines.py\u001b[0m in \u001b[0;36mrecache\u001b[0;34m(self, always)\u001b[0m\n\u001b[1;32m    655\u001b[0m         \u001b[0;32mif\u001b[0m \u001b[0malways\u001b[0m \u001b[0;32mor\u001b[0m \u001b[0mself\u001b[0m\u001b[0;34m.\u001b[0m\u001b[0m_invalidy\u001b[0m\u001b[0;34m:\u001b[0m\u001b[0;34m\u001b[0m\u001b[0m\n\u001b[1;32m    656\u001b[0m             \u001b[0myconv\u001b[0m \u001b[0;34m=\u001b[0m \u001b[0mself\u001b[0m\u001b[0;34m.\u001b[0m\u001b[0mconvert_yunits\u001b[0m\u001b[0;34m(\u001b[0m\u001b[0mself\u001b[0m\u001b[0;34m.\u001b[0m\u001b[0m_yorig\u001b[0m\u001b[0;34m)\u001b[0m\u001b[0;34m\u001b[0m\u001b[0m\n\u001b[0;32m--> 657\u001b[0;31m             \u001b[0my\u001b[0m \u001b[0;34m=\u001b[0m \u001b[0m_to_unmasked_float_array\u001b[0m\u001b[0;34m(\u001b[0m\u001b[0myconv\u001b[0m\u001b[0;34m)\u001b[0m\u001b[0;34m.\u001b[0m\u001b[0mravel\u001b[0m\u001b[0;34m(\u001b[0m\u001b[0;34m)\u001b[0m\u001b[0;34m\u001b[0m\u001b[0m\n\u001b[0m\u001b[1;32m    658\u001b[0m         \u001b[0;32melse\u001b[0m\u001b[0;34m:\u001b[0m\u001b[0;34m\u001b[0m\u001b[0m\n\u001b[1;32m    659\u001b[0m             \u001b[0my\u001b[0m \u001b[0;34m=\u001b[0m \u001b[0mself\u001b[0m\u001b[0;34m.\u001b[0m\u001b[0m_y\u001b[0m\u001b[0;34m\u001b[0m\u001b[0m\n",
      "\u001b[0;32m/usr/local/Anaconda3-5.0.0-Linux-x86_64/envs/PUI2016_Python3/lib/python3.5/site-packages/matplotlib/cbook/__init__.py\u001b[0m in \u001b[0;36m_to_unmasked_float_array\u001b[0;34m(x)\u001b[0m\n\u001b[1;32m   2006\u001b[0m         \u001b[0;32mreturn\u001b[0m \u001b[0mnp\u001b[0m\u001b[0;34m.\u001b[0m\u001b[0mma\u001b[0m\u001b[0;34m.\u001b[0m\u001b[0masarray\u001b[0m\u001b[0;34m(\u001b[0m\u001b[0mx\u001b[0m\u001b[0;34m,\u001b[0m \u001b[0mfloat\u001b[0m\u001b[0;34m)\u001b[0m\u001b[0;34m.\u001b[0m\u001b[0mfilled\u001b[0m\u001b[0;34m(\u001b[0m\u001b[0mnp\u001b[0m\u001b[0;34m.\u001b[0m\u001b[0mnan\u001b[0m\u001b[0;34m)\u001b[0m\u001b[0;34m\u001b[0m\u001b[0m\n\u001b[1;32m   2007\u001b[0m     \u001b[0;32melse\u001b[0m\u001b[0;34m:\u001b[0m\u001b[0;34m\u001b[0m\u001b[0m\n\u001b[0;32m-> 2008\u001b[0;31m         \u001b[0;32mreturn\u001b[0m \u001b[0mnp\u001b[0m\u001b[0;34m.\u001b[0m\u001b[0masarray\u001b[0m\u001b[0;34m(\u001b[0m\u001b[0mx\u001b[0m\u001b[0;34m,\u001b[0m \u001b[0mfloat\u001b[0m\u001b[0;34m)\u001b[0m\u001b[0;34m\u001b[0m\u001b[0m\n\u001b[0m\u001b[1;32m   2009\u001b[0m \u001b[0;34m\u001b[0m\u001b[0m\n\u001b[1;32m   2010\u001b[0m \u001b[0;34m\u001b[0m\u001b[0m\n",
      "\u001b[0;32m/usr/local/Anaconda3-5.0.0-Linux-x86_64/envs/PUI2016_Python3/lib/python3.5/site-packages/numpy/core/numeric.py\u001b[0m in \u001b[0;36masarray\u001b[0;34m(a, dtype, order)\u001b[0m\n\u001b[1;32m    472\u001b[0m \u001b[0;34m\u001b[0m\u001b[0m\n\u001b[1;32m    473\u001b[0m     \"\"\"\n\u001b[0;32m--> 474\u001b[0;31m     \u001b[0;32mreturn\u001b[0m \u001b[0marray\u001b[0m\u001b[0;34m(\u001b[0m\u001b[0ma\u001b[0m\u001b[0;34m,\u001b[0m \u001b[0mdtype\u001b[0m\u001b[0;34m,\u001b[0m \u001b[0mcopy\u001b[0m\u001b[0;34m=\u001b[0m\u001b[0;32mFalse\u001b[0m\u001b[0;34m,\u001b[0m \u001b[0morder\u001b[0m\u001b[0;34m=\u001b[0m\u001b[0morder\u001b[0m\u001b[0;34m)\u001b[0m\u001b[0;34m\u001b[0m\u001b[0m\n\u001b[0m\u001b[1;32m    475\u001b[0m \u001b[0;34m\u001b[0m\u001b[0m\n\u001b[1;32m    476\u001b[0m \u001b[0;32mdef\u001b[0m \u001b[0masanyarray\u001b[0m\u001b[0;34m(\u001b[0m\u001b[0ma\u001b[0m\u001b[0;34m,\u001b[0m \u001b[0mdtype\u001b[0m\u001b[0;34m=\u001b[0m\u001b[0;32mNone\u001b[0m\u001b[0;34m,\u001b[0m \u001b[0morder\u001b[0m\u001b[0;34m=\u001b[0m\u001b[0;32mNone\u001b[0m\u001b[0;34m)\u001b[0m\u001b[0;34m:\u001b[0m\u001b[0;34m\u001b[0m\u001b[0m\n",
      "\u001b[0;31mTypeError\u001b[0m: float() argument must be a string or a number, not 'Point'"
     ]
    },
    {
     "data": {
      "image/png": "[encoded data removed]",
      "text/plain": [
       "<matplotlib.figure.Figure at 0x7f273151a978>"
      ]
     },
     "metadata": {},
     "output_type": "display_data"
    }
   ],
   "source": [
    "plot(facility['Center'])"
   ]
  },
  {
   "cell_type": "code",
   "execution_count": 183,
   "metadata": {},
   "outputs": [
    {
     "ename": "TypeError",
     "evalue": "float() argument must be a string or a number, not 'Point'",
     "output_type": "error",
     "traceback": [
      "\u001b[0;31m---------------------------------------------------------------------------\u001b[0m",
      "\u001b[0;31mTypeError\u001b[0m                                 Traceback (most recent call last)",
      "\u001b[0;32m<ipython-input-183-9994509538b1>\u001b[0m in \u001b[0;36m<module>\u001b[0;34m()\u001b[0m\n\u001b[0;32m----> 1\u001b[0;31m \u001b[0mplt\u001b[0m\u001b[0;34m.\u001b[0m\u001b[0mhlines\u001b[0m\u001b[0;34m(\u001b[0m\u001b[0mfacility\u001b[0m\u001b[0;34m[\u001b[0m\u001b[0;34m'Center'\u001b[0m\u001b[0;34m]\u001b[0m\u001b[0;34m,\u001b[0m \u001b[0mxmin\u001b[0m\u001b[0;34m=\u001b[0m\u001b[0;36m0\u001b[0m\u001b[0;34m,\u001b[0m \u001b[0mxmax\u001b[0m\u001b[0;34m=\u001b[0m\u001b[0mlen\u001b[0m\u001b[0;34m(\u001b[0m\u001b[0mfacility\u001b[0m\u001b[0;34m)\u001b[0m\u001b[0;34m,\u001b[0m \u001b[0mlw\u001b[0m\u001b[0;34m=\u001b[0m\u001b[0;36m1.\u001b[0m\u001b[0;34m)\u001b[0m\u001b[0;34m\u001b[0m\u001b[0m\n\u001b[0m",
      "\u001b[0;32m/usr/local/Anaconda3-5.0.0-Linux-x86_64/envs/PUI2016_Python3/lib/python3.5/site-packages/matplotlib/pyplot.py\u001b[0m in \u001b[0;36mhlines\u001b[0;34m(y, xmin, xmax, colors, linestyles, label, hold, data, **kwargs)\u001b[0m\n\u001b[1;32m   3049\u001b[0m     \u001b[0;32mtry\u001b[0m\u001b[0;34m:\u001b[0m\u001b[0;34m\u001b[0m\u001b[0m\n\u001b[1;32m   3050\u001b[0m         ret = ax.hlines(y, xmin, xmax, colors=colors, linestyles=linestyles,\n\u001b[0;32m-> 3051\u001b[0;31m                         label=label, data=data, **kwargs)\n\u001b[0m\u001b[1;32m   3052\u001b[0m     \u001b[0;32mfinally\u001b[0m\u001b[0;34m:\u001b[0m\u001b[0;34m\u001b[0m\u001b[0m\n\u001b[1;32m   3053\u001b[0m         \u001b[0max\u001b[0m\u001b[0;34m.\u001b[0m\u001b[0m_hold\u001b[0m \u001b[0;34m=\u001b[0m \u001b[0mwashold\u001b[0m\u001b[0;34m\u001b[0m\u001b[0m\n",
      "\u001b[0;32m/usr/local/Anaconda3-5.0.0-Linux-x86_64/envs/PUI2016_Python3/lib/python3.5/site-packages/matplotlib/__init__.py\u001b[0m in \u001b[0;36minner\u001b[0;34m(ax, *args, **kwargs)\u001b[0m\n\u001b[1;32m   1708\u001b[0m                     warnings.warn(msg % (label_namer, func.__name__),\n\u001b[1;32m   1709\u001b[0m                                   RuntimeWarning, stacklevel=2)\n\u001b[0;32m-> 1710\u001b[0;31m             \u001b[0;32mreturn\u001b[0m \u001b[0mfunc\u001b[0m\u001b[0;34m(\u001b[0m\u001b[0max\u001b[0m\u001b[0;34m,\u001b[0m \u001b[0;34m*\u001b[0m\u001b[0margs\u001b[0m\u001b[0;34m,\u001b[0m \u001b[0;34m**\u001b[0m\u001b[0mkwargs\u001b[0m\u001b[0;34m)\u001b[0m\u001b[0;34m\u001b[0m\u001b[0m\n\u001b[0m\u001b[1;32m   1711\u001b[0m         \u001b[0mpre_doc\u001b[0m \u001b[0;34m=\u001b[0m \u001b[0minner\u001b[0m\u001b[0;34m.\u001b[0m\u001b[0m__doc__\u001b[0m\u001b[0;34m\u001b[0m\u001b[0m\n\u001b[1;32m   1712\u001b[0m         \u001b[0;32mif\u001b[0m \u001b[0mpre_doc\u001b[0m \u001b[0;32mis\u001b[0m \u001b[0;32mNone\u001b[0m\u001b[0;34m:\u001b[0m\u001b[0;34m\u001b[0m\u001b[0m\n",
      "\u001b[0;32m/usr/local/Anaconda3-5.0.0-Linux-x86_64/envs/PUI2016_Python3/lib/python3.5/site-packages/matplotlib/axes/_axes.py\u001b[0m in \u001b[0;36mhlines\u001b[0;34m(self, y, xmin, xmax, colors, linestyles, label, **kwargs)\u001b[0m\n\u001b[1;32m    981\u001b[0m                  for thisxmin, thisxmax, thisy in zip(xmin, xmax, y)]\n\u001b[1;32m    982\u001b[0m         lines = mcoll.LineCollection(verts, colors=colors,\n\u001b[0;32m--> 983\u001b[0;31m                                      linestyles=linestyles, label=label)\n\u001b[0m\u001b[1;32m    984\u001b[0m         \u001b[0mself\u001b[0m\u001b[0;34m.\u001b[0m\u001b[0madd_collection\u001b[0m\u001b[0;34m(\u001b[0m\u001b[0mlines\u001b[0m\u001b[0;34m,\u001b[0m \u001b[0mautolim\u001b[0m\u001b[0;34m=\u001b[0m\u001b[0;32mFalse\u001b[0m\u001b[0;34m)\u001b[0m\u001b[0;34m\u001b[0m\u001b[0m\n\u001b[1;32m    985\u001b[0m         \u001b[0mlines\u001b[0m\u001b[0;34m.\u001b[0m\u001b[0mupdate\u001b[0m\u001b[0;34m(\u001b[0m\u001b[0mkwargs\u001b[0m\u001b[0;34m)\u001b[0m\u001b[0;34m\u001b[0m\u001b[0m\n",
      "\u001b[0;32m/usr/local/Anaconda3-5.0.0-Linux-x86_64/envs/PUI2016_Python3/lib/python3.5/site-packages/matplotlib/collections.py\u001b[0m in \u001b[0;36m__init__\u001b[0;34m(self, segments, linewidths, colors, antialiaseds, linestyles, offsets, transOffset, norm, cmap, pickradius, zorder, facecolors, **kwargs)\u001b[0m\n\u001b[1;32m   1179\u001b[0m             **kwargs)\n\u001b[1;32m   1180\u001b[0m \u001b[0;34m\u001b[0m\u001b[0m\n\u001b[0;32m-> 1181\u001b[0;31m         \u001b[0mself\u001b[0m\u001b[0;34m.\u001b[0m\u001b[0mset_segments\u001b[0m\u001b[0;34m(\u001b[0m\u001b[0msegments\u001b[0m\u001b[0;34m)\u001b[0m\u001b[0;34m\u001b[0m\u001b[0m\n\u001b[0m\u001b[1;32m   1182\u001b[0m \u001b[0;34m\u001b[0m\u001b[0m\n\u001b[1;32m   1183\u001b[0m     \u001b[0;32mdef\u001b[0m \u001b[0mset_segments\u001b[0m\u001b[0;34m(\u001b[0m\u001b[0mself\u001b[0m\u001b[0;34m,\u001b[0m \u001b[0msegments\u001b[0m\u001b[0;34m)\u001b[0m\u001b[0;34m:\u001b[0m\u001b[0;34m\u001b[0m\u001b[0m\n",
      "\u001b[0;32m/usr/local/Anaconda3-5.0.0-Linux-x86_64/envs/PUI2016_Python3/lib/python3.5/site-packages/matplotlib/collections.py\u001b[0m in \u001b[0;36mset_segments\u001b[0;34m(self, segments)\u001b[0m\n\u001b[1;32m   1188\u001b[0m         \u001b[0;32mfor\u001b[0m \u001b[0mseg\u001b[0m \u001b[0;32min\u001b[0m \u001b[0msegments\u001b[0m\u001b[0;34m:\u001b[0m\u001b[0;34m\u001b[0m\u001b[0m\n\u001b[1;32m   1189\u001b[0m             \u001b[0;32mif\u001b[0m \u001b[0;32mnot\u001b[0m \u001b[0misinstance\u001b[0m\u001b[0;34m(\u001b[0m\u001b[0mseg\u001b[0m\u001b[0;34m,\u001b[0m \u001b[0mnp\u001b[0m\u001b[0;34m.\u001b[0m\u001b[0mma\u001b[0m\u001b[0;34m.\u001b[0m\u001b[0mMaskedArray\u001b[0m\u001b[0;34m)\u001b[0m\u001b[0;34m:\u001b[0m\u001b[0;34m\u001b[0m\u001b[0m\n\u001b[0;32m-> 1190\u001b[0;31m                 \u001b[0mseg\u001b[0m \u001b[0;34m=\u001b[0m \u001b[0mnp\u001b[0m\u001b[0;34m.\u001b[0m\u001b[0masarray\u001b[0m\u001b[0;34m(\u001b[0m\u001b[0mseg\u001b[0m\u001b[0;34m,\u001b[0m \u001b[0mfloat\u001b[0m\u001b[0;34m)\u001b[0m\u001b[0;34m\u001b[0m\u001b[0m\n\u001b[0m\u001b[1;32m   1191\u001b[0m             \u001b[0m_segments\u001b[0m\u001b[0;34m.\u001b[0m\u001b[0mappend\u001b[0m\u001b[0;34m(\u001b[0m\u001b[0mseg\u001b[0m\u001b[0;34m)\u001b[0m\u001b[0;34m\u001b[0m\u001b[0m\n\u001b[1;32m   1192\u001b[0m \u001b[0;34m\u001b[0m\u001b[0m\n",
      "\u001b[0;32m/usr/local/Anaconda3-5.0.0-Linux-x86_64/envs/PUI2016_Python3/lib/python3.5/site-packages/numpy/core/numeric.py\u001b[0m in \u001b[0;36masarray\u001b[0;34m(a, dtype, order)\u001b[0m\n\u001b[1;32m    472\u001b[0m \u001b[0;34m\u001b[0m\u001b[0m\n\u001b[1;32m    473\u001b[0m     \"\"\"\n\u001b[0;32m--> 474\u001b[0;31m     \u001b[0;32mreturn\u001b[0m \u001b[0marray\u001b[0m\u001b[0;34m(\u001b[0m\u001b[0ma\u001b[0m\u001b[0;34m,\u001b[0m \u001b[0mdtype\u001b[0m\u001b[0;34m,\u001b[0m \u001b[0mcopy\u001b[0m\u001b[0;34m=\u001b[0m\u001b[0;32mFalse\u001b[0m\u001b[0;34m,\u001b[0m \u001b[0morder\u001b[0m\u001b[0;34m=\u001b[0m\u001b[0morder\u001b[0m\u001b[0;34m)\u001b[0m\u001b[0;34m\u001b[0m\u001b[0m\n\u001b[0m\u001b[1;32m    475\u001b[0m \u001b[0;34m\u001b[0m\u001b[0m\n\u001b[1;32m    476\u001b[0m \u001b[0;32mdef\u001b[0m \u001b[0masanyarray\u001b[0m\u001b[0;34m(\u001b[0m\u001b[0ma\u001b[0m\u001b[0;34m,\u001b[0m \u001b[0mdtype\u001b[0m\u001b[0;34m=\u001b[0m\u001b[0;32mNone\u001b[0m\u001b[0;34m,\u001b[0m \u001b[0morder\u001b[0m\u001b[0;34m=\u001b[0m\u001b[0;32mNone\u001b[0m\u001b[0;34m)\u001b[0m\u001b[0;34m:\u001b[0m\u001b[0;34m\u001b[0m\u001b[0m\n",
      "\u001b[0;31mTypeError\u001b[0m: float() argument must be a string or a number, not 'Point'"
     ]
    },
    {
     "data": {
      "image/png": "[encoded data removed]",
      "text/plain": [
       "<matplotlib.figure.Figure at 0x7f2731533780>"
      ]
     },
     "metadata": {},
     "output_type": "display_data"
    }
   ],
   "source": [
    "plt.hlines(facility['Center'], xmin=0, xmax=len(facility), lw=1.)"
   ]
  },
  {
   "cell_type": "code",
   "execution_count": 189,
   "metadata": {},
   "outputs": [
    {
     "data": {
      "text/plain": [
       "(89, 13)"
      ]
     },
     "execution_count": 189,
     "metadata": {},
     "output_type": "execute_result"
    }
   ],
   "source": [
    "facility.shape"
   ]
  },
  {
   "cell_type": "code",
   "execution_count": 175,
   "metadata": {},
   "outputs": [
    {
     "data": {
      "text/plain": [
       "(<matplotlib.figure.Figure at 0x7f27316adda0>,\n",
       " <matplotlib.axes._subplots.AxesSubplot at 0x7f27316bdb00>,\n",
       " <matplotlib.colorbar.Colorbar at 0x7f273162ee80>)"
      ]
     },
     "execution_count": 175,
     "metadata": {},
     "output_type": "execute_result"
    },
    {
     "data": {
      "image/png": "[encoded data removed]",
      "text/plain": [
       "<matplotlib.figure.Figure at 0x7f27316adda0>"
      ]
     },
     "metadata": {},
     "output_type": "display_data"
    }
   ],
   "source": [
    "choroplethNYC(facility,column=\"area\",cmap=\"bone\")"
   ]
  }
 ],
 "metadata": {
  "kernelspec": {
   "display_name": "PUI2016_Python3",
   "language": "python",
   "name": "pui2016_python3"
  },
  "language_info": {
   "codemirror_mode": {
    "name": "ipython",
    "version": 3
   },
   "file_extension": ".py",
   "mimetype": "text/x-python",
   "name": "python",
   "nbconvert_exporter": "python",
   "pygments_lexer": "ipython3",
   "version": "3.5.4"
  }
 },
 "nbformat": 4,
 "nbformat_minor": 2
}
